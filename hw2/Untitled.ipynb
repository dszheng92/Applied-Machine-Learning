{
 "cells": [
  {
   "cell_type": "code",
   "execution_count": 29,
   "metadata": {
    "collapsed": false
   },
   "outputs": [],
   "source": [
    "import pandas as pd\n",
    "%matplotlib inline\n",
    "import matplotlib.pyplot as plt\n",
    "import re\n",
    "import base64\n",
    "import numpy as np\n",
    "import pdb\n",
    "from collections import Counter\n",
    "from sklearn.feature_extraction.text import CountVectorizer\n",
    "from sklearn.preprocessing import LabelEncoder\n",
    "from sklearn.cross_validation import train_test_split\n",
    "from sklearn.linear_model import LogisticRegression\n",
    "from sklearn.metrics import classification_report"
   ]
  },
  {
   "cell_type": "code",
   "execution_count": 53,
   "metadata": {
    "collapsed": false
   },
   "outputs": [],
   "source": [
    "df_train = pd.read_json('train.json')\n",
    "df_test = pd.read_json('test.json')"
   ]
  },
  {
   "cell_type": "code",
   "execution_count": 44,
   "metadata": {
    "collapsed": false
   },
   "outputs": [
    {
     "data": {
      "text/html": [
       "<div>\n",
       "<style>\n",
       "    .dataframe thead tr:only-child th {\n",
       "        text-align: right;\n",
       "    }\n",
       "\n",
       "    .dataframe thead th {\n",
       "        text-align: left;\n",
       "    }\n",
       "\n",
       "    .dataframe tbody tr th {\n",
       "        vertical-align: top;\n",
       "    }\n",
       "</style>\n",
       "<table border=\"1\" class=\"dataframe\">\n",
       "  <thead>\n",
       "    <tr style=\"text-align: right;\">\n",
       "      <th></th>\n",
       "      <th>id</th>\n",
       "      <th>ingredients</th>\n",
       "      <th>all_ingredients</th>\n",
       "    </tr>\n",
       "  </thead>\n",
       "  <tbody>\n",
       "    <tr>\n",
       "      <th>0</th>\n",
       "      <td>18009</td>\n",
       "      <td>[baking powder, eggs, all-purpose flour, raisi...</td>\n",
       "      <td>baking powder;eggs;all-purpose flour;raisins;m...</td>\n",
       "    </tr>\n",
       "    <tr>\n",
       "      <th>1</th>\n",
       "      <td>28583</td>\n",
       "      <td>[sugar, egg yolks, corn starch, cream of tarta...</td>\n",
       "      <td>sugar;egg yolks;corn starch;cream of tartar;ba...</td>\n",
       "    </tr>\n",
       "    <tr>\n",
       "      <th>2</th>\n",
       "      <td>41580</td>\n",
       "      <td>[sausage links, fennel bulb, fronds, olive oil...</td>\n",
       "      <td>sausage links;fennel bulb;fronds;olive oil;cub...</td>\n",
       "    </tr>\n",
       "    <tr>\n",
       "      <th>3</th>\n",
       "      <td>29752</td>\n",
       "      <td>[meat cuts, file powder, smoked sausage, okra,...</td>\n",
       "      <td>meat cuts;file powder;smoked sausage;okra;shri...</td>\n",
       "    </tr>\n",
       "    <tr>\n",
       "      <th>4</th>\n",
       "      <td>35687</td>\n",
       "      <td>[ground black pepper, salt, sausage casings, l...</td>\n",
       "      <td>ground black pepper;salt;sausage casings;leeks...</td>\n",
       "    </tr>\n",
       "  </tbody>\n",
       "</table>\n",
       "</div>"
      ],
      "text/plain": [
       "      id                                        ingredients  \\\n",
       "0  18009  [baking powder, eggs, all-purpose flour, raisi...   \n",
       "1  28583  [sugar, egg yolks, corn starch, cream of tarta...   \n",
       "2  41580  [sausage links, fennel bulb, fronds, olive oil...   \n",
       "3  29752  [meat cuts, file powder, smoked sausage, okra,...   \n",
       "4  35687  [ground black pepper, salt, sausage casings, l...   \n",
       "\n",
       "                                     all_ingredients  \n",
       "0  baking powder;eggs;all-purpose flour;raisins;m...  \n",
       "1  sugar;egg yolks;corn starch;cream of tartar;ba...  \n",
       "2  sausage links;fennel bulb;fronds;olive oil;cub...  \n",
       "3  meat cuts;file powder;smoked sausage;okra;shri...  \n",
       "4  ground black pepper;salt;sausage casings;leeks...  "
      ]
     },
     "execution_count": 44,
     "metadata": {},
     "output_type": "execute_result"
    }
   ],
   "source": [
    "df_test.head()"
   ]
  },
  {
   "cell_type": "code",
   "execution_count": 6,
   "metadata": {
    "collapsed": false
   },
   "outputs": [
    {
     "data": {
      "text/plain": [
       "<matplotlib.axes._subplots.AxesSubplot at 0x10eaaa198>"
      ]
     },
     "execution_count": 6,
     "metadata": {},
     "output_type": "execute_result"
    },
    {
     "data": {
      "image/png": "[encoded data removed]",
      "text/plain": [
       "<matplotlib.figure.Figure at 0x10eaa36d8>"
      ]
     },
     "metadata": {},
     "output_type": "display_data"
    }
   ],
   "source": [
    "plt.style.use('ggplot')\n",
    "df_train['cuisine'].value_counts().plot(kind='bar')"
   ]
  },
  {
   "cell_type": "code",
   "execution_count": 8,
   "metadata": {
    "collapsed": true
   },
   "outputs": [],
   "source": [
    "counters = {}\n",
    "for cuisine in df_train['cuisine'].unique():\n",
    "    counters[cuisine] = Counter()\n",
    "    indices = (df_train['cuisine'] == cuisine)\n",
    "    for ingredients in df_train[indices]['ingredients']:\n",
    "        counters[cuisine].update(ingredients)"
   ]
  },
  {
   "cell_type": "code",
   "execution_count": 9,
   "metadata": {
    "collapsed": false
   },
   "outputs": [
    {
     "data": {
      "text/plain": [
       "[('salt', 3454),\n",
       " ('olive oil', 3111),\n",
       " ('garlic cloves', 1619),\n",
       " ('grated parmesan cheese', 1580),\n",
       " ('garlic', 1471),\n",
       " ('ground black pepper', 1444),\n",
       " ('extra-virgin olive oil', 1362),\n",
       " ('onions', 1240),\n",
       " ('water', 1052),\n",
       " ('butter', 1030)]"
      ]
     },
     "execution_count": 9,
     "metadata": {},
     "output_type": "execute_result"
    }
   ],
   "source": [
    "counters['italian'].most_common(10)"
   ]
  },
  {
   "cell_type": "code",
   "execution_count": 10,
   "metadata": {
    "collapsed": false
   },
   "outputs": [
    {
     "data": {
      "text/html": [
       "<div>\n",
       "<style>\n",
       "    .dataframe thead tr:only-child th {\n",
       "        text-align: right;\n",
       "    }\n",
       "\n",
       "    .dataframe thead th {\n",
       "        text-align: left;\n",
       "    }\n",
       "\n",
       "    .dataframe tbody tr th {\n",
       "        vertical-align: top;\n",
       "    }\n",
       "</style>\n",
       "<table border=\"1\" class=\"dataframe\">\n",
       "  <thead>\n",
       "    <tr style=\"text-align: right;\">\n",
       "      <th></th>\n",
       "      <th>top1</th>\n",
       "      <th>top2</th>\n",
       "      <th>top3</th>\n",
       "      <th>top4</th>\n",
       "      <th>top5</th>\n",
       "      <th>top6</th>\n",
       "      <th>top7</th>\n",
       "      <th>top8</th>\n",
       "      <th>top9</th>\n",
       "      <th>top10</th>\n",
       "    </tr>\n",
       "  </thead>\n",
       "  <tbody>\n",
       "    <tr>\n",
       "      <th>mexican</th>\n",
       "      <td>salt</td>\n",
       "      <td>onions</td>\n",
       "      <td>ground cumin</td>\n",
       "      <td>garlic</td>\n",
       "      <td>olive oil</td>\n",
       "      <td>chili powder</td>\n",
       "      <td>jalapeno chilies</td>\n",
       "      <td>sour cream</td>\n",
       "      <td>avocado</td>\n",
       "      <td>corn tortillas</td>\n",
       "    </tr>\n",
       "    <tr>\n",
       "      <th>british</th>\n",
       "      <td>salt</td>\n",
       "      <td>all-purpose flour</td>\n",
       "      <td>butter</td>\n",
       "      <td>milk</td>\n",
       "      <td>eggs</td>\n",
       "      <td>unsalted butter</td>\n",
       "      <td>sugar</td>\n",
       "      <td>onions</td>\n",
       "      <td>baking powder</td>\n",
       "      <td>large eggs</td>\n",
       "    </tr>\n",
       "    <tr>\n",
       "      <th>southern_us</th>\n",
       "      <td>salt</td>\n",
       "      <td>butter</td>\n",
       "      <td>all-purpose flour</td>\n",
       "      <td>sugar</td>\n",
       "      <td>large eggs</td>\n",
       "      <td>baking powder</td>\n",
       "      <td>water</td>\n",
       "      <td>unsalted butter</td>\n",
       "      <td>milk</td>\n",
       "      <td>buttermilk</td>\n",
       "    </tr>\n",
       "    <tr>\n",
       "      <th>spanish</th>\n",
       "      <td>salt</td>\n",
       "      <td>olive oil</td>\n",
       "      <td>garlic cloves</td>\n",
       "      <td>extra-virgin olive oil</td>\n",
       "      <td>onions</td>\n",
       "      <td>water</td>\n",
       "      <td>tomatoes</td>\n",
       "      <td>ground black pepper</td>\n",
       "      <td>red bell pepper</td>\n",
       "      <td>pepper</td>\n",
       "    </tr>\n",
       "    <tr>\n",
       "      <th>brazilian</th>\n",
       "      <td>salt</td>\n",
       "      <td>onions</td>\n",
       "      <td>olive oil</td>\n",
       "      <td>lime</td>\n",
       "      <td>water</td>\n",
       "      <td>garlic cloves</td>\n",
       "      <td>garlic</td>\n",
       "      <td>cachaca</td>\n",
       "      <td>sugar</td>\n",
       "      <td>tomatoes</td>\n",
       "    </tr>\n",
       "    <tr>\n",
       "      <th>japanese</th>\n",
       "      <td>soy sauce</td>\n",
       "      <td>salt</td>\n",
       "      <td>mirin</td>\n",
       "      <td>sugar</td>\n",
       "      <td>water</td>\n",
       "      <td>sake</td>\n",
       "      <td>rice vinegar</td>\n",
       "      <td>vegetable oil</td>\n",
       "      <td>scallions</td>\n",
       "      <td>ginger</td>\n",
       "    </tr>\n",
       "    <tr>\n",
       "      <th>indian</th>\n",
       "      <td>salt</td>\n",
       "      <td>onions</td>\n",
       "      <td>garam masala</td>\n",
       "      <td>water</td>\n",
       "      <td>ground turmeric</td>\n",
       "      <td>garlic</td>\n",
       "      <td>cumin seed</td>\n",
       "      <td>ground cumin</td>\n",
       "      <td>vegetable oil</td>\n",
       "      <td>oil</td>\n",
       "    </tr>\n",
       "    <tr>\n",
       "      <th>greek</th>\n",
       "      <td>salt</td>\n",
       "      <td>olive oil</td>\n",
       "      <td>dried oregano</td>\n",
       "      <td>garlic cloves</td>\n",
       "      <td>feta cheese crumbles</td>\n",
       "      <td>extra-virgin olive oil</td>\n",
       "      <td>fresh lemon juice</td>\n",
       "      <td>ground black pepper</td>\n",
       "      <td>garlic</td>\n",
       "      <td>pepper</td>\n",
       "    </tr>\n",
       "    <tr>\n",
       "      <th>jamaican</th>\n",
       "      <td>salt</td>\n",
       "      <td>onions</td>\n",
       "      <td>water</td>\n",
       "      <td>garlic</td>\n",
       "      <td>ground allspice</td>\n",
       "      <td>pepper</td>\n",
       "      <td>scallions</td>\n",
       "      <td>dried thyme</td>\n",
       "      <td>black pepper</td>\n",
       "      <td>garlic cloves</td>\n",
       "    </tr>\n",
       "    <tr>\n",
       "      <th>korean</th>\n",
       "      <td>soy sauce</td>\n",
       "      <td>sesame oil</td>\n",
       "      <td>garlic</td>\n",
       "      <td>green onions</td>\n",
       "      <td>sugar</td>\n",
       "      <td>salt</td>\n",
       "      <td>water</td>\n",
       "      <td>sesame seeds</td>\n",
       "      <td>onions</td>\n",
       "      <td>scallions</td>\n",
       "    </tr>\n",
       "    <tr>\n",
       "      <th>cajun_creole</th>\n",
       "      <td>salt</td>\n",
       "      <td>onions</td>\n",
       "      <td>garlic</td>\n",
       "      <td>green bell pepper</td>\n",
       "      <td>butter</td>\n",
       "      <td>olive oil</td>\n",
       "      <td>cayenne pepper</td>\n",
       "      <td>cajun seasoning</td>\n",
       "      <td>all-purpose flour</td>\n",
       "      <td>water</td>\n",
       "    </tr>\n",
       "    <tr>\n",
       "      <th>vietnamese</th>\n",
       "      <td>fish sauce</td>\n",
       "      <td>sugar</td>\n",
       "      <td>salt</td>\n",
       "      <td>garlic</td>\n",
       "      <td>water</td>\n",
       "      <td>carrots</td>\n",
       "      <td>soy sauce</td>\n",
       "      <td>shallots</td>\n",
       "      <td>garlic cloves</td>\n",
       "      <td>vegetable oil</td>\n",
       "    </tr>\n",
       "    <tr>\n",
       "      <th>filipino</th>\n",
       "      <td>salt</td>\n",
       "      <td>garlic</td>\n",
       "      <td>onions</td>\n",
       "      <td>water</td>\n",
       "      <td>soy sauce</td>\n",
       "      <td>pepper</td>\n",
       "      <td>oil</td>\n",
       "      <td>sugar</td>\n",
       "      <td>carrots</td>\n",
       "      <td>ground black pepper</td>\n",
       "    </tr>\n",
       "    <tr>\n",
       "      <th>french</th>\n",
       "      <td>salt</td>\n",
       "      <td>sugar</td>\n",
       "      <td>all-purpose flour</td>\n",
       "      <td>unsalted butter</td>\n",
       "      <td>olive oil</td>\n",
       "      <td>butter</td>\n",
       "      <td>water</td>\n",
       "      <td>large eggs</td>\n",
       "      <td>garlic cloves</td>\n",
       "      <td>ground black pepper</td>\n",
       "    </tr>\n",
       "    <tr>\n",
       "      <th>irish</th>\n",
       "      <td>salt</td>\n",
       "      <td>butter</td>\n",
       "      <td>all-purpose flour</td>\n",
       "      <td>onions</td>\n",
       "      <td>potatoes</td>\n",
       "      <td>sugar</td>\n",
       "      <td>baking soda</td>\n",
       "      <td>baking powder</td>\n",
       "      <td>milk</td>\n",
       "      <td>carrots</td>\n",
       "    </tr>\n",
       "    <tr>\n",
       "      <th>moroccan</th>\n",
       "      <td>salt</td>\n",
       "      <td>olive oil</td>\n",
       "      <td>ground cumin</td>\n",
       "      <td>onions</td>\n",
       "      <td>ground cinnamon</td>\n",
       "      <td>garlic cloves</td>\n",
       "      <td>water</td>\n",
       "      <td>ground ginger</td>\n",
       "      <td>carrots</td>\n",
       "      <td>paprika</td>\n",
       "    </tr>\n",
       "    <tr>\n",
       "      <th>russian</th>\n",
       "      <td>salt</td>\n",
       "      <td>sugar</td>\n",
       "      <td>onions</td>\n",
       "      <td>all-purpose flour</td>\n",
       "      <td>sour cream</td>\n",
       "      <td>eggs</td>\n",
       "      <td>water</td>\n",
       "      <td>butter</td>\n",
       "      <td>unsalted butter</td>\n",
       "      <td>large eggs</td>\n",
       "    </tr>\n",
       "    <tr>\n",
       "      <th>thai</th>\n",
       "      <td>fish sauce</td>\n",
       "      <td>garlic</td>\n",
       "      <td>salt</td>\n",
       "      <td>coconut milk</td>\n",
       "      <td>vegetable oil</td>\n",
       "      <td>soy sauce</td>\n",
       "      <td>sugar</td>\n",
       "      <td>water</td>\n",
       "      <td>garlic cloves</td>\n",
       "      <td>fresh lime juice</td>\n",
       "    </tr>\n",
       "    <tr>\n",
       "      <th>italian</th>\n",
       "      <td>salt</td>\n",
       "      <td>olive oil</td>\n",
       "      <td>garlic cloves</td>\n",
       "      <td>grated parmesan cheese</td>\n",
       "      <td>garlic</td>\n",
       "      <td>ground black pepper</td>\n",
       "      <td>extra-virgin olive oil</td>\n",
       "      <td>onions</td>\n",
       "      <td>water</td>\n",
       "      <td>butter</td>\n",
       "    </tr>\n",
       "    <tr>\n",
       "      <th>chinese</th>\n",
       "      <td>soy sauce</td>\n",
       "      <td>sesame oil</td>\n",
       "      <td>salt</td>\n",
       "      <td>corn starch</td>\n",
       "      <td>sugar</td>\n",
       "      <td>garlic</td>\n",
       "      <td>water</td>\n",
       "      <td>green onions</td>\n",
       "      <td>vegetable oil</td>\n",
       "      <td>scallions</td>\n",
       "    </tr>\n",
       "  </tbody>\n",
       "</table>\n",
       "</div>"
      ],
      "text/plain": [
       "                    top1               top2               top3  \\\n",
       "mexican             salt             onions       ground cumin   \n",
       "british             salt  all-purpose flour             butter   \n",
       "southern_us         salt             butter  all-purpose flour   \n",
       "spanish             salt          olive oil      garlic cloves   \n",
       "brazilian           salt             onions          olive oil   \n",
       "japanese       soy sauce               salt              mirin   \n",
       "indian              salt             onions       garam masala   \n",
       "greek               salt          olive oil      dried oregano   \n",
       "jamaican            salt             onions              water   \n",
       "korean         soy sauce         sesame oil             garlic   \n",
       "cajun_creole        salt             onions             garlic   \n",
       "vietnamese    fish sauce              sugar               salt   \n",
       "filipino            salt             garlic             onions   \n",
       "french              salt              sugar  all-purpose flour   \n",
       "irish               salt             butter  all-purpose flour   \n",
       "moroccan            salt          olive oil       ground cumin   \n",
       "russian             salt              sugar             onions   \n",
       "thai          fish sauce             garlic               salt   \n",
       "italian             salt          olive oil      garlic cloves   \n",
       "chinese        soy sauce         sesame oil               salt   \n",
       "\n",
       "                                top4                  top5  \\\n",
       "mexican                       garlic             olive oil   \n",
       "british                         milk                  eggs   \n",
       "southern_us                    sugar            large eggs   \n",
       "spanish       extra-virgin olive oil                onions   \n",
       "brazilian                       lime                 water   \n",
       "japanese                       sugar                 water   \n",
       "indian                         water       ground turmeric   \n",
       "greek                  garlic cloves  feta cheese crumbles   \n",
       "jamaican                      garlic       ground allspice   \n",
       "korean                  green onions                 sugar   \n",
       "cajun_creole       green bell pepper                butter   \n",
       "vietnamese                    garlic                 water   \n",
       "filipino                       water             soy sauce   \n",
       "french               unsalted butter             olive oil   \n",
       "irish                         onions              potatoes   \n",
       "moroccan                      onions       ground cinnamon   \n",
       "russian            all-purpose flour            sour cream   \n",
       "thai                    coconut milk         vegetable oil   \n",
       "italian       grated parmesan cheese                garlic   \n",
       "chinese                  corn starch                 sugar   \n",
       "\n",
       "                                top6                    top7  \\\n",
       "mexican                 chili powder        jalapeno chilies   \n",
       "british              unsalted butter                   sugar   \n",
       "southern_us            baking powder                   water   \n",
       "spanish                        water                tomatoes   \n",
       "brazilian              garlic cloves                  garlic   \n",
       "japanese                        sake            rice vinegar   \n",
       "indian                        garlic              cumin seed   \n",
       "greek         extra-virgin olive oil       fresh lemon juice   \n",
       "jamaican                      pepper               scallions   \n",
       "korean                          salt                   water   \n",
       "cajun_creole               olive oil          cayenne pepper   \n",
       "vietnamese                   carrots               soy sauce   \n",
       "filipino                      pepper                     oil   \n",
       "french                        butter                   water   \n",
       "irish                          sugar             baking soda   \n",
       "moroccan               garlic cloves                   water   \n",
       "russian                         eggs                   water   \n",
       "thai                       soy sauce                   sugar   \n",
       "italian          ground black pepper  extra-virgin olive oil   \n",
       "chinese                       garlic                   water   \n",
       "\n",
       "                             top8               top9                top10  \n",
       "mexican                sour cream            avocado       corn tortillas  \n",
       "british                    onions      baking powder           large eggs  \n",
       "southern_us       unsalted butter               milk           buttermilk  \n",
       "spanish       ground black pepper    red bell pepper               pepper  \n",
       "brazilian                 cachaca              sugar             tomatoes  \n",
       "japanese            vegetable oil          scallions               ginger  \n",
       "indian               ground cumin      vegetable oil                  oil  \n",
       "greek         ground black pepper             garlic               pepper  \n",
       "jamaican              dried thyme       black pepper        garlic cloves  \n",
       "korean               sesame seeds             onions            scallions  \n",
       "cajun_creole      cajun seasoning  all-purpose flour                water  \n",
       "vietnamese               shallots      garlic cloves        vegetable oil  \n",
       "filipino                    sugar            carrots  ground black pepper  \n",
       "french                 large eggs      garlic cloves  ground black pepper  \n",
       "irish               baking powder               milk              carrots  \n",
       "moroccan            ground ginger            carrots              paprika  \n",
       "russian                    butter    unsalted butter           large eggs  \n",
       "thai                        water      garlic cloves     fresh lime juice  \n",
       "italian                    onions              water               butter  \n",
       "chinese              green onions      vegetable oil            scallions  "
      ]
     },
     "execution_count": 10,
     "metadata": {},
     "output_type": "execute_result"
    }
   ],
   "source": [
    "top10 = pd.DataFrame([[items[0] for items in counters[cuisine].most_common(10)] for cuisine in counters],\n",
    "            index=[cuisine for cuisine in counters],\n",
    "            columns=['top{}'.format(i) for i in range(1, 11)])\n",
    "top10"
   ]
  },
  {
   "cell_type": "code",
   "execution_count": 54,
   "metadata": {
    "collapsed": true
   },
   "outputs": [],
   "source": [
    "df_train['all_ingredients'] = df_train['ingredients'].map(\";\".join)\n",
    "df_test['all_ingredients'] = df_test['ingredients'].map(\";\".join)\n"
   ]
  },
  {
   "cell_type": "code",
   "execution_count": 55,
   "metadata": {
    "collapsed": false
   },
   "outputs": [
    {
     "data": {
      "text/html": [
       "<div>\n",
       "<style>\n",
       "    .dataframe thead tr:only-child th {\n",
       "        text-align: right;\n",
       "    }\n",
       "\n",
       "    .dataframe thead th {\n",
       "        text-align: left;\n",
       "    }\n",
       "\n",
       "    .dataframe tbody tr th {\n",
       "        vertical-align: top;\n",
       "    }\n",
       "</style>\n",
       "<table border=\"1\" class=\"dataframe\">\n",
       "  <thead>\n",
       "    <tr style=\"text-align: right;\">\n",
       "      <th></th>\n",
       "      <th>id</th>\n",
       "      <th>ingredients</th>\n",
       "      <th>all_ingredients</th>\n",
       "    </tr>\n",
       "  </thead>\n",
       "  <tbody>\n",
       "    <tr>\n",
       "      <th>0</th>\n",
       "      <td>18009</td>\n",
       "      <td>[baking powder, eggs, all-purpose flour, raisi...</td>\n",
       "      <td>baking powder;eggs;all-purpose flour;raisins;m...</td>\n",
       "    </tr>\n",
       "    <tr>\n",
       "      <th>1</th>\n",
       "      <td>28583</td>\n",
       "      <td>[sugar, egg yolks, corn starch, cream of tarta...</td>\n",
       "      <td>sugar;egg yolks;corn starch;cream of tartar;ba...</td>\n",
       "    </tr>\n",
       "    <tr>\n",
       "      <th>2</th>\n",
       "      <td>41580</td>\n",
       "      <td>[sausage links, fennel bulb, fronds, olive oil...</td>\n",
       "      <td>sausage links;fennel bulb;fronds;olive oil;cub...</td>\n",
       "    </tr>\n",
       "    <tr>\n",
       "      <th>3</th>\n",
       "      <td>29752</td>\n",
       "      <td>[meat cuts, file powder, smoked sausage, okra,...</td>\n",
       "      <td>meat cuts;file powder;smoked sausage;okra;shri...</td>\n",
       "    </tr>\n",
       "    <tr>\n",
       "      <th>4</th>\n",
       "      <td>35687</td>\n",
       "      <td>[ground black pepper, salt, sausage casings, l...</td>\n",
       "      <td>ground black pepper;salt;sausage casings;leeks...</td>\n",
       "    </tr>\n",
       "  </tbody>\n",
       "</table>\n",
       "</div>"
      ],
      "text/plain": [
       "      id                                        ingredients  \\\n",
       "0  18009  [baking powder, eggs, all-purpose flour, raisi...   \n",
       "1  28583  [sugar, egg yolks, corn starch, cream of tarta...   \n",
       "2  41580  [sausage links, fennel bulb, fronds, olive oil...   \n",
       "3  29752  [meat cuts, file powder, smoked sausage, okra,...   \n",
       "4  35687  [ground black pepper, salt, sausage casings, l...   \n",
       "\n",
       "                                     all_ingredients  \n",
       "0  baking powder;eggs;all-purpose flour;raisins;m...  \n",
       "1  sugar;egg yolks;corn starch;cream of tartar;ba...  \n",
       "2  sausage links;fennel bulb;fronds;olive oil;cub...  \n",
       "3  meat cuts;file powder;smoked sausage;okra;shri...  \n",
       "4  ground black pepper;salt;sausage casings;leeks...  "
      ]
     },
     "execution_count": 55,
     "metadata": {},
     "output_type": "execute_result"
    }
   ],
   "source": [
    "df_train.head()\n",
    "df_test.head()\n"
   ]
  },
  {
   "cell_type": "code",
   "execution_count": 56,
   "metadata": {
    "collapsed": false
   },
   "outputs": [
    {
     "data": {
      "text/plain": [
       "0       False\n",
       "1       False\n",
       "2       False\n",
       "3        True\n",
       "4       False\n",
       "5       False\n",
       "6       False\n",
       "7       False\n",
       "8       False\n",
       "9       False\n",
       "10      False\n",
       "11      False\n",
       "12       True\n",
       "13      False\n",
       "14      False\n",
       "15      False\n",
       "16      False\n",
       "17      False\n",
       "18      False\n",
       "19      False\n",
       "20      False\n",
       "21      False\n",
       "22      False\n",
       "23      False\n",
       "24       True\n",
       "25      False\n",
       "26       True\n",
       "27       True\n",
       "28      False\n",
       "29      False\n",
       "        ...  \n",
       "9914     True\n",
       "9915    False\n",
       "9916    False\n",
       "9917    False\n",
       "9918    False\n",
       "9919    False\n",
       "9920     True\n",
       "9921    False\n",
       "9922    False\n",
       "9923    False\n",
       "9924    False\n",
       "9925    False\n",
       "9926    False\n",
       "9927    False\n",
       "9928    False\n",
       "9929    False\n",
       "9930    False\n",
       "9931     True\n",
       "9932    False\n",
       "9933    False\n",
       "9934    False\n",
       "9935    False\n",
       "9936    False\n",
       "9937     True\n",
       "9938    False\n",
       "9939    False\n",
       "9940    False\n",
       "9941    False\n",
       "9942    False\n",
       "9943     True\n",
       "Name: all_ingredients, Length: 9944, dtype: bool"
      ]
     },
     "execution_count": 56,
     "metadata": {},
     "output_type": "execute_result"
    }
   ],
   "source": [
    "df_train['all_ingredients'].str.contains('garlic cloves')\n",
    "df_test['all_ingredients'].str.contains('garlic cloves')\n"
   ]
  },
  {
   "cell_type": "code",
   "execution_count": 58,
   "metadata": {
    "collapsed": false
   },
   "outputs": [
    {
     "data": {
      "image/png": "[encoded data removed]",
      "text/plain": [
       "<matplotlib.figure.Figure at 0x10cf644a8>"
      ]
     },
     "metadata": {},
     "output_type": "display_data"
    }
   ],
   "source": [
    "indices = df_train['all_ingredients'].str.contains('garlic cloves')\n",
    "df_train[indices]['cuisine'].value_counts().plot(kind='bar',\n",
    "                                                 title='garlic cloves as found per cuisine')\n",
    "indicestest = df_test['all_ingredients'].str.contains('garlic cloves')"
   ]
  },
  {
   "cell_type": "code",
   "execution_count": 18,
   "metadata": {
    "collapsed": false
   },
   "outputs": [
    {
     "data": {
      "text/plain": [
       "array(['all-purpose flour', 'avocado', 'baking powder', 'baking soda',\n",
       "       'black pepper', 'butter', 'buttermilk', 'cachaca',\n",
       "       'cajun seasoning', 'carrots', 'cayenne pepper', 'chili powder',\n",
       "       'coconut milk', 'corn starch', 'corn tortillas', 'cumin seed',\n",
       "       'dried oregano', 'dried thyme', 'eggs', 'extra-virgin olive oil',\n",
       "       'feta cheese crumbles', 'fish sauce', 'fresh lemon juice',\n",
       "       'fresh lime juice', 'garam masala', 'garlic', 'garlic cloves',\n",
       "       'ginger', 'grated parmesan cheese', 'green bell pepper',\n",
       "       'green onions', 'ground allspice', 'ground black pepper',\n",
       "       'ground cinnamon', 'ground cumin', 'ground ginger',\n",
       "       'ground turmeric', 'jalapeno chilies', 'large eggs', 'lime', 'milk',\n",
       "       'mirin', 'oil', 'olive oil', 'onions', 'paprika', 'pepper',\n",
       "       'potatoes', 'red bell pepper', 'rice vinegar', 'sake', 'salt',\n",
       "       'scallions', 'sesame oil', 'sesame seeds', 'shallots', 'sour cream',\n",
       "       'soy sauce', 'sugar', 'tomatoes', 'unsalted butter',\n",
       "       'vegetable oil', 'water'], dtype=object)"
      ]
     },
     "execution_count": 18,
     "metadata": {},
     "output_type": "execute_result"
    }
   ],
   "source": [
    "unique = np.unique(top10.values.ravel())\n",
    "unique"
   ]
  },
  {
   "cell_type": "code",
   "execution_count": 20,
   "metadata": {
    "collapsed": true
   },
   "outputs": [],
   "source": [
    "cv = CountVectorizer()"
   ]
  },
  {
   "cell_type": "code",
   "execution_count": 74,
   "metadata": {
    "collapsed": false
   },
   "outputs": [
    {
     "data": {
      "text/plain": [
       "(9944, 2246)"
      ]
     },
     "execution_count": 74,
     "metadata": {},
     "output_type": "execute_result"
    }
   ],
   "source": [
    "X = cv.fit_transform(df_train['all_ingredients'].values)\n",
    "Xtest = cv.fit_transform(df_test['all_ingredients'].values)\n",
    "\n",
    "Xtest.shape"
   ]
  },
  {
   "cell_type": "code",
   "execution_count": 39,
   "metadata": {
    "collapsed": true
   },
   "outputs": [],
   "source": [
    "enc = LabelEncoder()\n",
    "y = enc.fit_transform(df_train.cuisine)"
   ]
  },
  {
   "cell_type": "code",
   "execution_count": 25,
   "metadata": {
    "collapsed": true
   },
   "outputs": [],
   "source": [
    "X_train, X_test, y_train, y_test = train_test_split(X, y, test_size=0.2)"
   ]
  },
  {
   "cell_type": "code",
   "execution_count": 61,
   "metadata": {
    "collapsed": false
   },
   "outputs": [
    {
     "data": {
      "text/plain": [
       "LogisticRegression(C=1.0, class_weight=None, dual=False, fit_intercept=True,\n",
       "          intercept_scaling=1, max_iter=100, multi_class='ovr', n_jobs=1,\n",
       "          penalty='l2', random_state=None, solver='liblinear', tol=0.0001,\n",
       "          verbose=0, warm_start=False)"
      ]
     },
     "execution_count": 61,
     "metadata": {},
     "output_type": "execute_result"
    }
   ],
   "source": [
    "logistic = LogisticRegression()\n",
    "logistic.fit(X_train, y_train)"
   ]
  },
  {
   "cell_type": "code",
   "execution_count": 62,
   "metadata": {
    "collapsed": false
   },
   "outputs": [
    {
     "data": {
      "text/plain": [
       "0.7808925204274042"
      ]
     },
     "execution_count": 62,
     "metadata": {},
     "output_type": "execute_result"
    }
   ],
   "source": [
    "logistic.score(X_test, y_test)"
   ]
  },
  {
   "cell_type": "code",
   "execution_count": 47,
   "metadata": {
    "collapsed": false
   },
   "outputs": [
    {
     "data": {
      "text/plain": [
       "(7955, 3010)"
      ]
     },
     "execution_count": 47,
     "metadata": {},
     "output_type": "execute_result"
    }
   ],
   "source": [
    "X_test.shape"
   ]
  },
  {
   "cell_type": "code",
   "execution_count": 66,
   "metadata": {
    "collapsed": false
   },
   "outputs": [
    {
     "data": {
      "text/plain": [
       "(9944, 2246)"
      ]
     },
     "execution_count": 66,
     "metadata": {},
     "output_type": "execute_result"
    }
   ],
   "source": [
    "Xtest.shape"
   ]
  },
  {
   "cell_type": "code",
   "execution_count": 82,
   "metadata": {
    "collapsed": false
   },
   "outputs": [
    {
     "ename": "SyntaxError",
     "evalue": "invalid syntax (<ipython-input-82-63e43ce2697c>, line 1)",
     "output_type": "error",
     "traceback": [
      "\u001b[0;36m  File \u001b[0;32m\"<ipython-input-82-63e43ce2697c>\"\u001b[0;36m, line \u001b[0;32m1\u001b[0m\n\u001b[0;31m    Xtest = Xtest[:, 2247:3010 = 0 ]\u001b[0m\n\u001b[0m                               ^\u001b[0m\n\u001b[0;31mSyntaxError\u001b[0m\u001b[0;31m:\u001b[0m invalid syntax\n"
     ]
    }
   ],
   "source": [
    "Xtest = Xtest[:, 2247:3010 = 0 ]"
   ]
  },
  {
   "cell_type": "code",
   "execution_count": 80,
   "metadata": {
    "collapsed": false
   },
   "outputs": [
    {
     "data": {
      "text/plain": [
       "(9944, 2246)"
      ]
     },
     "execution_count": 80,
     "metadata": {},
     "output_type": "execute_result"
    }
   ],
   "source": [
    "Xtest.shape"
   ]
  },
  {
   "cell_type": "code",
   "execution_count": 71,
   "metadata": {
    "collapsed": false
   },
   "outputs": [
    {
     "name": "stdout",
     "output_type": "stream",
     "text": [
      "  (0, 2770)\t1\n",
      "  (0, 1094)\t1\n",
      "  (0, 1204)\t1\n",
      "  (0, 2349)\t1\n",
      "  (0, 1860)\t1\n",
      "  (0, 2133)\t2\n",
      "  (0, 1873)\t1\n",
      "  (0, 1961)\t1\n",
      "  (0, 549)\t1\n",
      "  (0, 1087)\t1\n",
      "  (0, 1645)\t1\n",
      "  (0, 596)\t1\n",
      "  (0, 1785)\t1\n",
      "  (0, 2238)\t1\n",
      "  (0, 1509)\t2\n",
      "  (0, 674)\t1\n",
      "  (0, 2413)\t1\n",
      "  (0, 953)\t1\n",
      "  (0, 2829)\t1\n",
      "  (0, 383)\t1\n",
      "  (0, 1369)\t1\n",
      "  (1, 1204)\t1\n",
      "  (1, 2349)\t1\n",
      "  (1, 1190)\t2\n",
      "  (1, 1860)\t1\n",
      "  :\t:\n",
      "  (7, 2349)\t1\n",
      "  (7, 1860)\t1\n",
      "  (7, 1873)\t1\n",
      "  (7, 1518)\t1\n",
      "  (7, 1386)\t1\n",
      "  (7, 1087)\t1\n",
      "  (7, 1645)\t1\n",
      "  (7, 1044)\t1\n",
      "  (7, 1118)\t1\n",
      "  (7, 1867)\t1\n",
      "  (7, 596)\t1\n",
      "  (7, 616)\t1\n",
      "  (7, 2820)\t1\n",
      "  (7, 539)\t1\n",
      "  (7, 1157)\t1\n",
      "  (8, 2349)\t1\n",
      "  (8, 1707)\t2\n",
      "  (8, 2133)\t1\n",
      "  (8, 2647)\t1\n",
      "  (8, 2943)\t1\n",
      "  (8, 2664)\t1\n",
      "  (8, 2261)\t1\n",
      "  (8, 1532)\t1\n",
      "  (8, 626)\t2\n",
      "  (8, 625)\t1\n"
     ]
    }
   ],
   "source": [
    "print(X_test[1:10])"
   ]
  },
  {
   "cell_type": "code",
   "execution_count": null,
   "metadata": {
    "collapsed": true
   },
   "outputs": [],
   "source": []
  },
  {
   "cell_type": "code",
   "execution_count": 63,
   "metadata": {
    "collapsed": false
   },
   "outputs": [
    {
     "ename": "ValueError",
     "evalue": "X has 2246 features per sample; expecting 3010",
     "output_type": "error",
     "traceback": [
      "\u001b[0;31m---------------------------------------------------------------------------\u001b[0m",
      "\u001b[0;31mValueError\u001b[0m                                Traceback (most recent call last)",
      "\u001b[0;32m<ipython-input-63-b819a0c03f0f>\u001b[0m in \u001b[0;36m<module>\u001b[0;34m()\u001b[0m\n\u001b[0;32m----> 1\u001b[0;31m \u001b[0mpred\u001b[0m \u001b[0;34m=\u001b[0m \u001b[0mlogistic\u001b[0m\u001b[0;34m.\u001b[0m\u001b[0mpredict\u001b[0m\u001b[0;34m(\u001b[0m\u001b[0mXtest\u001b[0m\u001b[0;34m)\u001b[0m\u001b[0;34m\u001b[0m\u001b[0m\n\u001b[0m",
      "\u001b[0;32m/Users/disheng/miniconda3/lib/python3.5/site-packages/sklearn/linear_model/base.py\u001b[0m in \u001b[0;36mpredict\u001b[0;34m(self, X)\u001b[0m\n\u001b[1;32m    322\u001b[0m             \u001b[0mPredicted\u001b[0m \u001b[0;32mclass\u001b[0m \u001b[0mlabel\u001b[0m \u001b[0mper\u001b[0m \u001b[0msample\u001b[0m\u001b[0;34m.\u001b[0m\u001b[0;34m\u001b[0m\u001b[0m\n\u001b[1;32m    323\u001b[0m         \"\"\"\n\u001b[0;32m--> 324\u001b[0;31m         \u001b[0mscores\u001b[0m \u001b[0;34m=\u001b[0m \u001b[0mself\u001b[0m\u001b[0;34m.\u001b[0m\u001b[0mdecision_function\u001b[0m\u001b[0;34m(\u001b[0m\u001b[0mX\u001b[0m\u001b[0;34m)\u001b[0m\u001b[0;34m\u001b[0m\u001b[0m\n\u001b[0m\u001b[1;32m    325\u001b[0m         \u001b[0;32mif\u001b[0m \u001b[0mlen\u001b[0m\u001b[0;34m(\u001b[0m\u001b[0mscores\u001b[0m\u001b[0;34m.\u001b[0m\u001b[0mshape\u001b[0m\u001b[0;34m)\u001b[0m \u001b[0;34m==\u001b[0m \u001b[0;36m1\u001b[0m\u001b[0;34m:\u001b[0m\u001b[0;34m\u001b[0m\u001b[0m\n\u001b[1;32m    326\u001b[0m             \u001b[0mindices\u001b[0m \u001b[0;34m=\u001b[0m \u001b[0;34m(\u001b[0m\u001b[0mscores\u001b[0m \u001b[0;34m>\u001b[0m \u001b[0;36m0\u001b[0m\u001b[0;34m)\u001b[0m\u001b[0;34m.\u001b[0m\u001b[0mastype\u001b[0m\u001b[0;34m(\u001b[0m\u001b[0mnp\u001b[0m\u001b[0;34m.\u001b[0m\u001b[0mint\u001b[0m\u001b[0;34m)\u001b[0m\u001b[0;34m\u001b[0m\u001b[0m\n",
      "\u001b[0;32m/Users/disheng/miniconda3/lib/python3.5/site-packages/sklearn/linear_model/base.py\u001b[0m in \u001b[0;36mdecision_function\u001b[0;34m(self, X)\u001b[0m\n\u001b[1;32m    303\u001b[0m         \u001b[0;32mif\u001b[0m \u001b[0mX\u001b[0m\u001b[0;34m.\u001b[0m\u001b[0mshape\u001b[0m\u001b[0;34m[\u001b[0m\u001b[0;36m1\u001b[0m\u001b[0;34m]\u001b[0m \u001b[0;34m!=\u001b[0m \u001b[0mn_features\u001b[0m\u001b[0;34m:\u001b[0m\u001b[0;34m\u001b[0m\u001b[0m\n\u001b[1;32m    304\u001b[0m             raise ValueError(\"X has %d features per sample; expecting %d\"\n\u001b[0;32m--> 305\u001b[0;31m                              % (X.shape[1], n_features))\n\u001b[0m\u001b[1;32m    306\u001b[0m \u001b[0;34m\u001b[0m\u001b[0m\n\u001b[1;32m    307\u001b[0m         scores = safe_sparse_dot(X, self.coef_.T,\n",
      "\u001b[0;31mValueError\u001b[0m: X has 2246 features per sample; expecting 3010"
     ]
    }
   ],
   "source": [
    "pred = logistic.predict(df_test)"
   ]
  },
  {
   "cell_type": "code",
   "execution_count": 50,
   "metadata": {
    "collapsed": false
   },
   "outputs": [],
   "source": [
    "df_test = pd.read_json('test.json')"
   ]
  },
  {
   "cell_type": "code",
   "execution_count": 51,
   "metadata": {
    "collapsed": false
   },
   "outputs": [
    {
     "ename": "KeyError",
     "evalue": "'all_ingredients'",
     "output_type": "error",
     "traceback": [
      "\u001b[0;31m---------------------------------------------------------------------------\u001b[0m",
      "\u001b[0;31mKeyError\u001b[0m                                  Traceback (most recent call last)",
      "\u001b[0;32m/Users/disheng/miniconda3/lib/python3.5/site-packages/pandas/core/indexes/base.py\u001b[0m in \u001b[0;36mget_loc\u001b[0;34m(self, key, method, tolerance)\u001b[0m\n\u001b[1;32m   2441\u001b[0m             \u001b[0;32mtry\u001b[0m\u001b[0;34m:\u001b[0m\u001b[0;34m\u001b[0m\u001b[0m\n\u001b[0;32m-> 2442\u001b[0;31m                 \u001b[0;32mreturn\u001b[0m \u001b[0mself\u001b[0m\u001b[0;34m.\u001b[0m\u001b[0m_engine\u001b[0m\u001b[0;34m.\u001b[0m\u001b[0mget_loc\u001b[0m\u001b[0;34m(\u001b[0m\u001b[0mkey\u001b[0m\u001b[0;34m)\u001b[0m\u001b[0;34m\u001b[0m\u001b[0m\n\u001b[0m\u001b[1;32m   2443\u001b[0m             \u001b[0;32mexcept\u001b[0m \u001b[0mKeyError\u001b[0m\u001b[0;34m:\u001b[0m\u001b[0;34m\u001b[0m\u001b[0m\n",
      "\u001b[0;32mpandas/_libs/index.pyx\u001b[0m in \u001b[0;36mpandas._libs.index.IndexEngine.get_loc (pandas/_libs/index.c:5280)\u001b[0;34m()\u001b[0m\n",
      "\u001b[0;32mpandas/_libs/index.pyx\u001b[0m in \u001b[0;36mpandas._libs.index.IndexEngine.get_loc (pandas/_libs/index.c:5126)\u001b[0;34m()\u001b[0m\n",
      "\u001b[0;32mpandas/_libs/hashtable_class_helper.pxi\u001b[0m in \u001b[0;36mpandas._libs.hashtable.PyObjectHashTable.get_item (pandas/_libs/hashtable.c:20523)\u001b[0;34m()\u001b[0m\n",
      "\u001b[0;32mpandas/_libs/hashtable_class_helper.pxi\u001b[0m in \u001b[0;36mpandas._libs.hashtable.PyObjectHashTable.get_item (pandas/_libs/hashtable.c:20477)\u001b[0;34m()\u001b[0m\n",
      "\u001b[0;31mKeyError\u001b[0m: 'all_ingredients'",
      "\nDuring handling of the above exception, another exception occurred:\n",
      "\u001b[0;31mKeyError\u001b[0m                                  Traceback (most recent call last)",
      "\u001b[0;32m<ipython-input-51-a76fc80cc771>\u001b[0m in \u001b[0;36m<module>\u001b[0;34m()\u001b[0m\n\u001b[0;32m----> 1\u001b[0;31m \u001b[0mXtest\u001b[0m \u001b[0;34m=\u001b[0m \u001b[0mcv\u001b[0m\u001b[0;34m.\u001b[0m\u001b[0mfit_transform\u001b[0m\u001b[0;34m(\u001b[0m\u001b[0mdf_test\u001b[0m\u001b[0;34m[\u001b[0m\u001b[0;34m'all_ingredients'\u001b[0m\u001b[0;34m]\u001b[0m\u001b[0;34m.\u001b[0m\u001b[0mvalues\u001b[0m\u001b[0;34m)\u001b[0m\u001b[0;34m\u001b[0m\u001b[0m\n\u001b[0m",
      "\u001b[0;32m/Users/disheng/miniconda3/lib/python3.5/site-packages/pandas/core/frame.py\u001b[0m in \u001b[0;36m__getitem__\u001b[0;34m(self, key)\u001b[0m\n\u001b[1;32m   1962\u001b[0m             \u001b[0;32mreturn\u001b[0m \u001b[0mself\u001b[0m\u001b[0;34m.\u001b[0m\u001b[0m_getitem_multilevel\u001b[0m\u001b[0;34m(\u001b[0m\u001b[0mkey\u001b[0m\u001b[0;34m)\u001b[0m\u001b[0;34m\u001b[0m\u001b[0m\n\u001b[1;32m   1963\u001b[0m         \u001b[0;32melse\u001b[0m\u001b[0;34m:\u001b[0m\u001b[0;34m\u001b[0m\u001b[0m\n\u001b[0;32m-> 1964\u001b[0;31m             \u001b[0;32mreturn\u001b[0m \u001b[0mself\u001b[0m\u001b[0;34m.\u001b[0m\u001b[0m_getitem_column\u001b[0m\u001b[0;34m(\u001b[0m\u001b[0mkey\u001b[0m\u001b[0;34m)\u001b[0m\u001b[0;34m\u001b[0m\u001b[0m\n\u001b[0m\u001b[1;32m   1965\u001b[0m \u001b[0;34m\u001b[0m\u001b[0m\n\u001b[1;32m   1966\u001b[0m     \u001b[0;32mdef\u001b[0m \u001b[0m_getitem_column\u001b[0m\u001b[0;34m(\u001b[0m\u001b[0mself\u001b[0m\u001b[0;34m,\u001b[0m \u001b[0mkey\u001b[0m\u001b[0;34m)\u001b[0m\u001b[0;34m:\u001b[0m\u001b[0;34m\u001b[0m\u001b[0m\n",
      "\u001b[0;32m/Users/disheng/miniconda3/lib/python3.5/site-packages/pandas/core/frame.py\u001b[0m in \u001b[0;36m_getitem_column\u001b[0;34m(self, key)\u001b[0m\n\u001b[1;32m   1969\u001b[0m         \u001b[0;31m# get column\u001b[0m\u001b[0;34m\u001b[0m\u001b[0;34m\u001b[0m\u001b[0m\n\u001b[1;32m   1970\u001b[0m         \u001b[0;32mif\u001b[0m \u001b[0mself\u001b[0m\u001b[0;34m.\u001b[0m\u001b[0mcolumns\u001b[0m\u001b[0;34m.\u001b[0m\u001b[0mis_unique\u001b[0m\u001b[0;34m:\u001b[0m\u001b[0;34m\u001b[0m\u001b[0m\n\u001b[0;32m-> 1971\u001b[0;31m             \u001b[0;32mreturn\u001b[0m \u001b[0mself\u001b[0m\u001b[0;34m.\u001b[0m\u001b[0m_get_item_cache\u001b[0m\u001b[0;34m(\u001b[0m\u001b[0mkey\u001b[0m\u001b[0;34m)\u001b[0m\u001b[0;34m\u001b[0m\u001b[0m\n\u001b[0m\u001b[1;32m   1972\u001b[0m \u001b[0;34m\u001b[0m\u001b[0m\n\u001b[1;32m   1973\u001b[0m         \u001b[0;31m# duplicate columns & possible reduce dimensionality\u001b[0m\u001b[0;34m\u001b[0m\u001b[0;34m\u001b[0m\u001b[0m\n",
      "\u001b[0;32m/Users/disheng/miniconda3/lib/python3.5/site-packages/pandas/core/generic.py\u001b[0m in \u001b[0;36m_get_item_cache\u001b[0;34m(self, item)\u001b[0m\n\u001b[1;32m   1643\u001b[0m         \u001b[0mres\u001b[0m \u001b[0;34m=\u001b[0m \u001b[0mcache\u001b[0m\u001b[0;34m.\u001b[0m\u001b[0mget\u001b[0m\u001b[0;34m(\u001b[0m\u001b[0mitem\u001b[0m\u001b[0;34m)\u001b[0m\u001b[0;34m\u001b[0m\u001b[0m\n\u001b[1;32m   1644\u001b[0m         \u001b[0;32mif\u001b[0m \u001b[0mres\u001b[0m \u001b[0;32mis\u001b[0m \u001b[0;32mNone\u001b[0m\u001b[0;34m:\u001b[0m\u001b[0;34m\u001b[0m\u001b[0m\n\u001b[0;32m-> 1645\u001b[0;31m             \u001b[0mvalues\u001b[0m \u001b[0;34m=\u001b[0m \u001b[0mself\u001b[0m\u001b[0;34m.\u001b[0m\u001b[0m_data\u001b[0m\u001b[0;34m.\u001b[0m\u001b[0mget\u001b[0m\u001b[0;34m(\u001b[0m\u001b[0mitem\u001b[0m\u001b[0;34m)\u001b[0m\u001b[0;34m\u001b[0m\u001b[0m\n\u001b[0m\u001b[1;32m   1646\u001b[0m             \u001b[0mres\u001b[0m \u001b[0;34m=\u001b[0m \u001b[0mself\u001b[0m\u001b[0;34m.\u001b[0m\u001b[0m_box_item_values\u001b[0m\u001b[0;34m(\u001b[0m\u001b[0mitem\u001b[0m\u001b[0;34m,\u001b[0m \u001b[0mvalues\u001b[0m\u001b[0;34m)\u001b[0m\u001b[0;34m\u001b[0m\u001b[0m\n\u001b[1;32m   1647\u001b[0m             \u001b[0mcache\u001b[0m\u001b[0;34m[\u001b[0m\u001b[0mitem\u001b[0m\u001b[0;34m]\u001b[0m \u001b[0;34m=\u001b[0m \u001b[0mres\u001b[0m\u001b[0;34m\u001b[0m\u001b[0m\n",
      "\u001b[0;32m/Users/disheng/miniconda3/lib/python3.5/site-packages/pandas/core/internals.py\u001b[0m in \u001b[0;36mget\u001b[0;34m(self, item, fastpath)\u001b[0m\n\u001b[1;32m   3588\u001b[0m \u001b[0;34m\u001b[0m\u001b[0m\n\u001b[1;32m   3589\u001b[0m             \u001b[0;32mif\u001b[0m \u001b[0;32mnot\u001b[0m \u001b[0misnull\u001b[0m\u001b[0;34m(\u001b[0m\u001b[0mitem\u001b[0m\u001b[0;34m)\u001b[0m\u001b[0;34m:\u001b[0m\u001b[0;34m\u001b[0m\u001b[0m\n\u001b[0;32m-> 3590\u001b[0;31m                 \u001b[0mloc\u001b[0m \u001b[0;34m=\u001b[0m \u001b[0mself\u001b[0m\u001b[0;34m.\u001b[0m\u001b[0mitems\u001b[0m\u001b[0;34m.\u001b[0m\u001b[0mget_loc\u001b[0m\u001b[0;34m(\u001b[0m\u001b[0mitem\u001b[0m\u001b[0;34m)\u001b[0m\u001b[0;34m\u001b[0m\u001b[0m\n\u001b[0m\u001b[1;32m   3591\u001b[0m             \u001b[0;32melse\u001b[0m\u001b[0;34m:\u001b[0m\u001b[0;34m\u001b[0m\u001b[0m\n\u001b[1;32m   3592\u001b[0m                 \u001b[0mindexer\u001b[0m \u001b[0;34m=\u001b[0m \u001b[0mnp\u001b[0m\u001b[0;34m.\u001b[0m\u001b[0marange\u001b[0m\u001b[0;34m(\u001b[0m\u001b[0mlen\u001b[0m\u001b[0;34m(\u001b[0m\u001b[0mself\u001b[0m\u001b[0;34m.\u001b[0m\u001b[0mitems\u001b[0m\u001b[0;34m)\u001b[0m\u001b[0;34m)\u001b[0m\u001b[0;34m[\u001b[0m\u001b[0misnull\u001b[0m\u001b[0;34m(\u001b[0m\u001b[0mself\u001b[0m\u001b[0;34m.\u001b[0m\u001b[0mitems\u001b[0m\u001b[0;34m)\u001b[0m\u001b[0;34m]\u001b[0m\u001b[0;34m\u001b[0m\u001b[0m\n",
      "\u001b[0;32m/Users/disheng/miniconda3/lib/python3.5/site-packages/pandas/core/indexes/base.py\u001b[0m in \u001b[0;36mget_loc\u001b[0;34m(self, key, method, tolerance)\u001b[0m\n\u001b[1;32m   2442\u001b[0m                 \u001b[0;32mreturn\u001b[0m \u001b[0mself\u001b[0m\u001b[0;34m.\u001b[0m\u001b[0m_engine\u001b[0m\u001b[0;34m.\u001b[0m\u001b[0mget_loc\u001b[0m\u001b[0;34m(\u001b[0m\u001b[0mkey\u001b[0m\u001b[0;34m)\u001b[0m\u001b[0;34m\u001b[0m\u001b[0m\n\u001b[1;32m   2443\u001b[0m             \u001b[0;32mexcept\u001b[0m \u001b[0mKeyError\u001b[0m\u001b[0;34m:\u001b[0m\u001b[0;34m\u001b[0m\u001b[0m\n\u001b[0;32m-> 2444\u001b[0;31m                 \u001b[0;32mreturn\u001b[0m \u001b[0mself\u001b[0m\u001b[0;34m.\u001b[0m\u001b[0m_engine\u001b[0m\u001b[0;34m.\u001b[0m\u001b[0mget_loc\u001b[0m\u001b[0;34m(\u001b[0m\u001b[0mself\u001b[0m\u001b[0;34m.\u001b[0m\u001b[0m_maybe_cast_indexer\u001b[0m\u001b[0;34m(\u001b[0m\u001b[0mkey\u001b[0m\u001b[0;34m)\u001b[0m\u001b[0;34m)\u001b[0m\u001b[0;34m\u001b[0m\u001b[0m\n\u001b[0m\u001b[1;32m   2445\u001b[0m \u001b[0;34m\u001b[0m\u001b[0m\n\u001b[1;32m   2446\u001b[0m         \u001b[0mindexer\u001b[0m \u001b[0;34m=\u001b[0m \u001b[0mself\u001b[0m\u001b[0;34m.\u001b[0m\u001b[0mget_indexer\u001b[0m\u001b[0;34m(\u001b[0m\u001b[0;34m[\u001b[0m\u001b[0mkey\u001b[0m\u001b[0;34m]\u001b[0m\u001b[0;34m,\u001b[0m \u001b[0mmethod\u001b[0m\u001b[0;34m=\u001b[0m\u001b[0mmethod\u001b[0m\u001b[0;34m,\u001b[0m \u001b[0mtolerance\u001b[0m\u001b[0;34m=\u001b[0m\u001b[0mtolerance\u001b[0m\u001b[0;34m)\u001b[0m\u001b[0;34m\u001b[0m\u001b[0m\n",
      "\u001b[0;32mpandas/_libs/index.pyx\u001b[0m in \u001b[0;36mpandas._libs.index.IndexEngine.get_loc (pandas/_libs/index.c:5280)\u001b[0;34m()\u001b[0m\n",
      "\u001b[0;32mpandas/_libs/index.pyx\u001b[0m in \u001b[0;36mpandas._libs.index.IndexEngine.get_loc (pandas/_libs/index.c:5126)\u001b[0;34m()\u001b[0m\n",
      "\u001b[0;32mpandas/_libs/hashtable_class_helper.pxi\u001b[0m in \u001b[0;36mpandas._libs.hashtable.PyObjectHashTable.get_item (pandas/_libs/hashtable.c:20523)\u001b[0;34m()\u001b[0m\n",
      "\u001b[0;32mpandas/_libs/hashtable_class_helper.pxi\u001b[0m in \u001b[0;36mpandas._libs.hashtable.PyObjectHashTable.get_item (pandas/_libs/hashtable.c:20477)\u001b[0;34m()\u001b[0m\n",
      "\u001b[0;31mKeyError\u001b[0m: 'all_ingredients'"
     ]
    }
   ],
   "source": [
    "Xtest = cv.fit_transform(df_test['all_ingredients'].values)\n"
   ]
  },
  {
   "cell_type": "code",
   "execution_count": 41,
   "metadata": {
    "collapsed": false
   },
   "outputs": [
    {
     "ename": "AttributeError",
     "evalue": "'DataFrame' object has no attribute 'cuisine'",
     "output_type": "error",
     "traceback": [
      "\u001b[0;31m---------------------------------------------------------------------------\u001b[0m",
      "\u001b[0;31mAttributeError\u001b[0m                            Traceback (most recent call last)",
      "\u001b[0;32m<ipython-input-41-1ece9cb9c8e7>\u001b[0m in \u001b[0;36m<module>\u001b[0;34m()\u001b[0m\n\u001b[1;32m      1\u001b[0m \u001b[0menc\u001b[0m \u001b[0;34m=\u001b[0m \u001b[0mLabelEncoder\u001b[0m\u001b[0;34m(\u001b[0m\u001b[0;34m)\u001b[0m\u001b[0;34m\u001b[0m\u001b[0m\n\u001b[0;32m----> 2\u001b[0;31m \u001b[0mytest\u001b[0m \u001b[0;34m=\u001b[0m \u001b[0menc\u001b[0m\u001b[0;34m.\u001b[0m\u001b[0mfit_transform\u001b[0m\u001b[0;34m(\u001b[0m\u001b[0mdf_test\u001b[0m\u001b[0;34m.\u001b[0m\u001b[0mcuisine\u001b[0m\u001b[0;34m)\u001b[0m\u001b[0;34m\u001b[0m\u001b[0m\n\u001b[0m",
      "\u001b[0;32m/Users/disheng/miniconda3/lib/python3.5/site-packages/pandas/core/generic.py\u001b[0m in \u001b[0;36m__getattr__\u001b[0;34m(self, name)\u001b[0m\n\u001b[1;32m   3079\u001b[0m             \u001b[0;32mif\u001b[0m \u001b[0mname\u001b[0m \u001b[0;32min\u001b[0m \u001b[0mself\u001b[0m\u001b[0;34m.\u001b[0m\u001b[0m_info_axis\u001b[0m\u001b[0;34m:\u001b[0m\u001b[0;34m\u001b[0m\u001b[0m\n\u001b[1;32m   3080\u001b[0m                 \u001b[0;32mreturn\u001b[0m \u001b[0mself\u001b[0m\u001b[0;34m[\u001b[0m\u001b[0mname\u001b[0m\u001b[0;34m]\u001b[0m\u001b[0;34m\u001b[0m\u001b[0m\n\u001b[0;32m-> 3081\u001b[0;31m             \u001b[0;32mreturn\u001b[0m \u001b[0mobject\u001b[0m\u001b[0;34m.\u001b[0m\u001b[0m__getattribute__\u001b[0m\u001b[0;34m(\u001b[0m\u001b[0mself\u001b[0m\u001b[0;34m,\u001b[0m \u001b[0mname\u001b[0m\u001b[0;34m)\u001b[0m\u001b[0;34m\u001b[0m\u001b[0m\n\u001b[0m\u001b[1;32m   3082\u001b[0m \u001b[0;34m\u001b[0m\u001b[0m\n\u001b[1;32m   3083\u001b[0m     \u001b[0;32mdef\u001b[0m \u001b[0m__setattr__\u001b[0m\u001b[0;34m(\u001b[0m\u001b[0mself\u001b[0m\u001b[0;34m,\u001b[0m \u001b[0mname\u001b[0m\u001b[0;34m,\u001b[0m \u001b[0mvalue\u001b[0m\u001b[0;34m)\u001b[0m\u001b[0;34m:\u001b[0m\u001b[0;34m\u001b[0m\u001b[0m\n",
      "\u001b[0;31mAttributeError\u001b[0m: 'DataFrame' object has no attribute 'cuisine'"
     ]
    }
   ],
   "source": []
  }
 ],
 "metadata": {
  "kernelspec": {
   "display_name": "Python 3",
   "language": "python",
   "name": "python3"
  },
  "language_info": {
   "codemirror_mode": {
    "name": "ipython",
    "version": 3
   },
   "file_extension": ".py",
   "mimetype": "text/x-python",
   "name": "python",
   "nbconvert_exporter": "python",
   "pygments_lexer": "ipython3",
   "version": "3.5.2"
  }
 },
 "nbformat": 4,
 "nbformat_minor": 2
}
