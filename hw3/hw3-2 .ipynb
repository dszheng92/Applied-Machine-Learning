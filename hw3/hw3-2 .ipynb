{
 "cells": [
  {
   "cell_type": "code",
   "execution_count": 18,
   "metadata": {
    "collapsed": false,
    "deletable": true,
    "editable": true
   },
   "outputs": [],
   "source": [
    "get_ipython().magic('matplotlib inline')\n",
    "import os\n",
    "import numpy as np\n",
    "import random as rnd\n",
    "import matplotlib.pyplot as plt\n",
    "import pandas as pd\n",
    "import statsmodels.api as sm\n",
    "from pandas import Series, DataFrame\n",
    "from patsy import dmatrices\n",
    "from sklearn.cluster import KMeans, MiniBatchKMeans\n",
    "import nltk\n",
    "import re\n",
    "import codecs\n",
    "from sklearn import feature_extraction\n",
    "import mpld3\n",
    "import seaborn as sns"
   ]
  },
  {
   "cell_type": "code",
   "execution_count": 30,
   "metadata": {
    "collapsed": false,
    "deletable": true,
    "editable": true
   },
   "outputs": [],
   "source": [
    "science = np.load(\"science2k-doc-word.npy\")"
   ]
  },
  {
   "cell_type": "code",
   "execution_count": 161,
   "metadata": {
    "collapsed": true,
    "deletable": true,
    "editable": true
   },
   "outputs": [],
   "source": [
    "ff = open('science2k-vocab.txt', 'r')\n",
    "vocab = ff.readlines()"
   ]
  },
  {
   "cell_type": "code",
   "execution_count": 162,
   "metadata": {
    "collapsed": true,
    "deletable": true,
    "editable": true
   },
   "outputs": [],
   "source": [
    "f = open('science2k-titles.txt', 'r')\n",
    "titles = f.readlines()"
   ]
  },
  {
   "cell_type": "code",
   "execution_count": 163,
   "metadata": {
    "collapsed": true,
    "deletable": true,
    "editable": true
   },
   "outputs": [],
   "source": [
    "worddoc = np.load(\"science2k-word-doc.npy\")"
   ]
  },
  {
   "cell_type": "code",
   "execution_count": 8,
   "metadata": {
    "collapsed": false,
    "deletable": true,
    "editable": true
   },
   "outputs": [
    {
     "data": {
      "text/plain": [
       "1373"
      ]
     },
     "execution_count": 8,
     "metadata": {},
     "output_type": "execute_result"
    }
   ],
   "source": [
    "len(science)"
   ]
  },
  {
   "cell_type": "code",
   "execution_count": 87,
   "metadata": {
    "collapsed": false,
    "deletable": true,
    "editable": true
   },
   "outputs": [],
   "source": [
    "residuals = []"
   ]
  },
  {
   "cell_type": "code",
   "execution_count": 92,
   "metadata": {
    "collapsed": true,
    "deletable": true,
    "editable": true
   },
   "outputs": [],
   "source": [
    "for n in range(2, 21):\n",
    "    km = KMeans(n_clusters=n)\n",
    "    km.fit(science)\n",
    "    residuals.append(km.inertia_)"
   ]
  },
  {
   "cell_type": "code",
   "execution_count": 187,
   "metadata": {
    "collapsed": false,
    "deletable": true,
    "editable": true
   },
   "outputs": [
    {
     "data": {
      "text/plain": [
       "<matplotlib.text.Text at 0x114ec3cc0>"
      ]
     },
     "execution_count": 187,
     "metadata": {},
     "output_type": "execute_result"
    },
    {
     "data": {
      "image/png": "[encoded data removed]",
      "text/plain": [
       "<matplotlib.figure.Figure at 0x1031bac88>"
      ]
     },
     "metadata": {},
     "output_type": "display_data"
    }
   ],
   "source": [
    "plt.plot(residuals)\n",
    "plt.xlabel(\"K vlaue\")\n",
    "plt.ylabel(\"Sum Distance to Mean\")\n",
    "plt.title(\"K-means for articles\")"
   ]
  },
  {
   "cell_type": "code",
   "execution_count": 98,
   "metadata": {
    "collapsed": true,
    "deletable": true,
    "editable": true
   },
   "outputs": [],
   "source": [
    "# Use the elbow rule I would chosse 8 "
   ]
  },
  {
   "cell_type": "code",
   "execution_count": 99,
   "metadata": {
    "collapsed": false,
    "deletable": true,
    "editable": true
   },
   "outputs": [
    {
     "data": {
      "text/plain": [
       "KMeans(algorithm='auto', copy_x=True, init='k-means++', max_iter=300,\n",
       "    n_clusters=8, n_init=10, n_jobs=1, precompute_distances='auto',\n",
       "    random_state=None, tol=0.0001, verbose=0)"
      ]
     },
     "execution_count": 99,
     "metadata": {},
     "output_type": "execute_result"
    }
   ],
   "source": [
    "km8 = KMeans(n_clusters=8)\n",
    "km8.fit(science)\n"
   ]
  },
  {
   "cell_type": "code",
   "execution_count": 254,
   "metadata": {
    "collapsed": false,
    "deletable": true,
    "editable": true
   },
   "outputs": [],
   "source": [
    "labels = km8.predict(science)"
   ]
  },
  {
   "cell_type": "code",
   "execution_count": 350,
   "metadata": {
    "collapsed": true
   },
   "outputs": [],
   "source": [
    "def getTitles(k):\n",
    "    km8.cluster_centers_[k]\n",
    "    cj = list(np.where(labels == k))\n",
    "    if(len(cj[0])<11):\n",
    "        print(k+1, \" centroid\")\n",
    "        for i in cj[0]:\n",
    "            print(titles[i])\n",
    "    else:\n",
    "        distance = []\n",
    "        for n in range(0,len(cj[0])):\n",
    "            distance.append(np.linalg.norm(science[cj][n]-km8.cluster_centers_[0]))\n",
    "        books = np.array(distance).argsort()[:10]\n",
    "        bookindex = cj[0][books]\n",
    "        print(k+1, \" centroid\")\n",
    "        for i in bookindex:\n",
    "            print(titles[i])"
   ]
  },
  {
   "cell_type": "code",
   "execution_count": 352,
   "metadata": {
    "collapsed": false,
    "deletable": true,
    "editable": true
   },
   "outputs": [
    {
     "name": "stdout",
     "output_type": "stream",
     "text": [
      "1  centroid\n",
      "\"Algorithmic Gladiators Vie for Digital Glory\"\n",
      "\n",
      "\"Reopening the Darkest Chapter in German Science\"\n",
      "\n",
      "\"National Academy of Sciences Elects New Members\"\n",
      "\n",
      "\"Corrections and Clarifications: A Short Fe-Fe Distance in Peroxodiferric Ferritin: Control of Fe Substrate versus Cofactor Decay?\"\n",
      "\n",
      "\"Corrections and Clarifications: Charon's First Detailed Spectra Hold Many Surprises\"\n",
      "\n",
      "\"Corrections and Clarifications: Unearthing Monuments of the Yarmukians\"\n",
      "\n",
      "\"Heretical Idea Faces Its Sternest Test\"\n",
      "\n",
      "\"Archaeology in the Holy Land\"\n",
      "\n",
      "\"Information Technology Takes a Different Tack\"\n",
      "\n",
      "\"Corrections and Clarifications: Biotech Research Proves a Draw in Canada\"\n",
      "\n",
      "2  centroid\n",
      "\"Isotopic Evidence for Variations in the Marine Calcium Cycle over the Cenozoic\"\n",
      "\n",
      "\"Mass Balance of the Greenland Ice Sheet at High Elevations\"\n",
      "\n",
      "\"Remobilization in the Cratonic Lithosphere Recorded in Polycrystalline Diamond\"\n",
      "\n",
      "\"Temporal Trends in Deep Ocean Redfield Ratios\"\n",
      "\n",
      "\"Extinct <latex>$^{129}I$</latex> in Halite from a Primitive Meteorite: Evidence for Evaporite Formation in the Early Solar System\"\n",
      "\n",
      "\"Resonant Oscillations between the Solid Earth and the Atmosphere\"\n",
      "\n",
      "\"Cenozoic Deep-Sea Temperatures and Global Ice Volumes from Mg/Ca in Benthic Foraminiferal Calcite\"\n",
      "\n",
      "\"Historical Trends in Lake and River Ice Cover in the Northern Hemisphere\"\n",
      "\n",
      "\"A High-Resolution Millennial Record of the South Asian Monsoon from Himalayan Ice Cores\"\n",
      "\n",
      "\"Satellite Measurements of Sea Surface Temperature through Clouds\"\n",
      "\n",
      "3  centroid\n",
      "\"Science Survives in Breakthrough States\"\n",
      "\n",
      "\"For 'Father' of Abortion Drug, Vindication at Last\"\n",
      "\n",
      "\"Is AIDS in Africa a Distinct Disease?\"\n",
      "\n",
      "\"DOD Retreats on Plan for Anthrax Vaccine\"\n",
      "\n",
      "\"New Corn Plant Draws Fire from GM Food Opponents\"\n",
      "\n",
      "\"Parity as a Goal Sparks Bitter Battle\"\n",
      "\n",
      "\"In Europe, Hooligans Are Prime Subjects for Research\"\n",
      "\n",
      "\"On a Slippery Slope to Mediocrity?\"\n",
      "\n",
      "\"NIH, under Pressure, Boosts Minority Health Research\"\n",
      "\n",
      "\"Building a Disease-Fighting Mosquito\"\n",
      "\n",
      "4  centroid\n",
      "\"Structure of Yeast Poly(A) Polymerase Alone and in Complex with 3'-dATP\"\n",
      "\n",
      "\"Selfish DNA in Protein-Coding Genes of Rickettsia\"\n",
      "\n",
      "\"Structure of Murine CTLA-4 and Its Role in Modulating T Cell Responsiveness\"\n",
      "\n",
      "\"Role of 4.5S RNA in Assembly of the Bacterial Signal Recognition Particle with Its Receptor\"\n",
      "\n",
      "\"The Productive Conformation of Arachidonic Acid Bound to Prostaglandin Synthase\"\n",
      "\n",
      "\"Oxygen Activation and Reduction in Respiration: Involvement of Redox-Active Tyrosine 244\"\n",
      "\n",
      "\"Twists in Catalysis: Alternating Conformations of Escherichia coli Thioredoxin Reductase\"\n",
      "\n",
      "\"Redox Signaling in Chloroplasts: Cleavage of Disulfides by an Iron-Sulfur Cluster\"\n",
      "\n",
      "\"Seeing the Herpesvirus Capsid at 8.5 $\\AA$\"\n",
      "\n",
      "\"Structure of the Protease Domain of Memapsin 2 (b-Secretase) Complexed with Inhibitor\"\n",
      "\n",
      "\"Localization of the G Protein bg Complex in Living Cells during Chemotaxis\"\n",
      "\n",
      "\"Polarization of Chemoattractant Receptor Signaling during Neutrophil Chemotaxis\"\n",
      "\n",
      "\"Function of PI3Kg in Thymocyte Development, T Cell Activation, and Neutrophil Migration\"\n",
      "\n",
      "\"Cross Talk between Interferon-g and -a/b Signaling Components in Caveolar Membrane Domains\"\n",
      "\n",
      "\"Cytochrome c Release and Apoptosis Induced by Mitochondrial Targeting of Nuclear Orphan Receptor TR3\"\n",
      "\n",
      "\"Localized Rac Activation Dynamics Visualized in Living Cells\"\n",
      "\n",
      "6  centroid\n",
      "\"Thermal, Catalytic, Regiospecific Functionalization of Alkanes\"\n",
      "\n",
      "\"Influences of Dietary Uptake and Reactive Sulfides on Metal Bioavailability from Aquatic Sediments\"\n",
      "\n",
      "\"Neutral, Single-Component Nickel (II) Polyolefin Catalysts That Tolerate Heteroatoms\"\n",
      "\n",
      "\"Homogenization of Fish Faunas across the United States\"\n",
      "\n",
      "\"Information Storage and Retrieval through Quantum Phase\"\n",
      "\n",
      "\"Tectonic Implications of U-Pb Zircon Ages of the Himalayan Orogenic Belt in Nepal\"\n",
      "\n",
      "\"The Formation of Chondrules at High Gas Pressures in the Solar Nebula\"\n",
      "\n",
      "\"Subducted Seamount Imaged in the Rupture Zone of the 1946 Nankaido Earthquake\"\n",
      "\n",
      "\"Evidence for Ecological Causation of Sexual Dimorphism in a Hummingbird\"\n",
      "\n",
      "\"Population Dynamical Consequences of Climate Change for a Small Temperate Songbird\"\n",
      "\n",
      "7  centroid\n",
      "\"Ambipolar Pentacene Field-Effect Transistors and Inverters\"\n",
      "\n",
      "\"A Stable Bicyclic Compound with Two Si=Si Double Bonds\"\n",
      "\n",
      "\"Prospects for the Polymer Nanoengineer\"\n",
      "\n",
      "\"A Cyclic Carbanionic Valence Isomer of a Carbocation: Diphosphino Analogs of Diaminocarbocations\"\n",
      "\n",
      "\"Planar Hexacoordinate Carbon: A Viable Possibility\"\n",
      "\n",
      "\"High-Gain Harmonic-Generation Free-Electron Laser\"\n",
      "\n",
      "\"Anomalous Polarization Profiles in Sunspots: Possible Origin of Umbral Flashes\"\n",
      "\n",
      "\"Spontaneous Ordering of Oxide Nanostructures\"\n",
      "\n",
      "\"Dispersive Multiplexing in Multimode Optical Fiber\"\n",
      "\n",
      "\"A Light-Emitting Field-Effect Transistor\"\n",
      "\n",
      "8  centroid\n",
      "\"Requirement of NAD and SIR2 for Life-Span Extension by Calorie Restriction in Saccharomyces Cerevisiae\"\n",
      "\n",
      "\"Suppression of Mutations in Mitochondrial DNA by tRNAs Imported from the Cytoplasm\"\n",
      "\n",
      "\"Negative Regulation of the SHATTERPROOF Genes by FRUITFULL during Arabidopsis Fruit Development\"\n",
      "\n",
      "\"Distinct Classes of Yeast Promoters Revealed by Differential TAF Recruitment\"\n",
      "\n",
      "\"Efficient Initiation of HCV RNA Replication in Cell Culture\"\n",
      "\n",
      "\"T Cell-Independent Rescue of B Lymphocytes from Peripheral Immune Tolerance\"\n",
      "\n",
      "\"Reduced Food Intake and Body Weight in Mice Treated with Fatty Acid Synthase Inhibitors\"\n",
      "\n",
      "\"Patterning of the Zebrafish Retina by a Wave of Sonic Hedgehog Activity\"\n",
      "\n",
      "\"Identification of Synergistic Signals Initiating Inner Ear Development\"\n",
      "\n",
      "\"Tbx5 and the Retinotectum Projection\"\n",
      "\n"
     ]
    }
   ],
   "source": [
    "for k in range(0,8): getTitles(k)"
   ]
  },
  {
   "cell_type": "code",
   "execution_count": 188,
   "metadata": {
    "collapsed": true,
    "deletable": true,
    "editable": true
   },
   "outputs": [],
   "source": [
    "residuals2 = []"
   ]
  },
  {
   "cell_type": "code",
   "execution_count": 189,
   "metadata": {
    "collapsed": true,
    "deletable": true,
    "editable": true
   },
   "outputs": [],
   "source": [
    "for n in range(2, 21):\n",
    "    km2 = KMeans(n_clusters=n)\n",
    "    km2.fit(worddoc)\n",
    "    residuals2.append(km2.inertia_)"
   ]
  },
  {
   "cell_type": "code",
   "execution_count": 190,
   "metadata": {
    "collapsed": false,
    "deletable": true,
    "editable": true
   },
   "outputs": [
    {
     "data": {
      "text/plain": [
       "<matplotlib.text.Text at 0x114e52710>"
      ]
     },
     "execution_count": 190,
     "metadata": {},
     "output_type": "execute_result"
    },
    {
     "data": {
      "image/png": "[encoded data removed]",
      "text/plain": [
       "<matplotlib.figure.Figure at 0x114e396a0>"
      ]
     },
     "metadata": {},
     "output_type": "display_data"
    }
   ],
   "source": [
    "plt.plot(residuals2)\n",
    "plt.xlabel(\"K vlaue\")\n",
    "plt.ylabel(\"Sum Distance to Mean\")\n",
    "plt.title(\"K-means for vocabularies\")"
   ]
  },
  {
   "cell_type": "code",
   "execution_count": 357,
   "metadata": {
    "collapsed": false,
    "deletable": true,
    "editable": true
   },
   "outputs": [
    {
     "data": {
      "text/plain": [
       "KMeans(algorithm='auto', copy_x=True, init='k-means++', max_iter=300,\n",
       "    n_clusters=11, n_init=10, n_jobs=1, precompute_distances='auto',\n",
       "    random_state=None, tol=0.0001, verbose=0)"
      ]
     },
     "execution_count": 357,
     "metadata": {},
     "output_type": "execute_result"
    }
   ],
   "source": [
    "km11 = KMeans(n_clusters=11)\n",
    "km11.fit(worddoc)"
   ]
  },
  {
   "cell_type": "code",
   "execution_count": 358,
   "metadata": {
    "collapsed": true,
    "deletable": true,
    "editable": true
   },
   "outputs": [],
   "source": [
    "labels = km11.predict(worddoc)"
   ]
  },
  {
   "cell_type": "code",
   "execution_count": 362,
   "metadata": {
    "collapsed": true,
    "deletable": true,
    "editable": true
   },
   "outputs": [],
   "source": [
    "def getVocab(k):\n",
    "    km11.cluster_centers_[k]\n",
    "    cj = list(np.where(labels == k))\n",
    "    if(len(cj[0])<11):\n",
    "        print(k+1, \" centroid\")\n",
    "        for i in cj[0]:\n",
    "            print(vocab[i])\n",
    "    else:\n",
    "        distance = []\n",
    "        for n in range(0,len(cj[0])):\n",
    "            distance.append(np.linalg.norm(worddoc[cj][n]-km11.cluster_centers_[0]))\n",
    "        books = np.array(distance).argsort()[:10]\n",
    "        bookindex = cj[0][books]\n",
    "        print(k+1, \" centroid\")\n",
    "        for i in bookindex:\n",
    "            print(vocab[i])"
   ]
  },
  {
   "cell_type": "code",
   "execution_count": 363,
   "metadata": {
    "collapsed": false,
    "deletable": true,
    "editable": true,
    "scrolled": false
   },
   "outputs": [
    {
     "name": "stdout",
     "output_type": "stream",
     "text": [
      "1  centroid\n",
      "dispersion\n",
      "\n",
      "photon\n",
      "\n",
      "approximation\n",
      "\n",
      "dynamical\n",
      "\n",
      "momentum\n",
      "\n",
      "velocities\n",
      "\n",
      "angular\n",
      "\n",
      "finite\n",
      "\n",
      "coherent\n",
      "\n",
      "nonlinear\n",
      "\n",
      "2  centroid\n",
      "geneticist\n",
      "\n",
      "campaign\n",
      "\n",
      "security\n",
      "\n",
      "pace\n",
      "\n",
      "clinton\n",
      "\n",
      "prize\n",
      "\n",
      "trust\n",
      "\n",
      "fight\n",
      "\n",
      "revolution\n",
      "\n",
      "recalls\n",
      "\n",
      "3  centroid\n",
      "developed\n",
      "\n",
      "4  centroid\n",
      "start\n",
      "\n",
      "arrows\n",
      "\n",
      "labeled\n",
      "\n",
      "characterized\n",
      "\n",
      "possibility\n",
      "\n",
      "concentrations\n",
      "\n",
      "confirmed\n",
      "\n",
      "bars\n",
      "\n",
      "concentration\n",
      "\n",
      "resulted\n",
      "\n",
      "5  centroid\n",
      "thymocytes\n",
      "\n",
      "agonists\n",
      "\n",
      "myeloid\n",
      "\n",
      "immunoreactive\n",
      "\n",
      "cd3\n",
      "\n",
      "jnk\n",
      "\n",
      "fitc\n",
      "\n",
      "lacz\n",
      "\n",
      "bcl\n",
      "\n",
      "neurodegenerative\n",
      "\n",
      "6  centroid\n",
      "years\n",
      "\n",
      "year\n",
      "\n",
      "7  centroid\n",
      "research\n",
      "\n",
      "center\n",
      "\n",
      "national\n",
      "\n",
      "million\n",
      "\n",
      "8  centroid\n",
      "hairpin\n",
      "\n",
      "carbonyl\n",
      "\n",
      "mg2\n",
      "\n",
      "topology\n",
      "\n",
      "introns\n",
      "\n",
      "conformations\n",
      "\n",
      "ribbon\n",
      "\n",
      "groove\n",
      "\n",
      "linker\n",
      "\n",
      "electrostatic\n",
      "\n",
      "9  centroid\n",
      "chem\n",
      "\n",
      "natl\n",
      "\n",
      "acad\n",
      "\n",
      "proc\n",
      "\n",
      "res\n",
      "\n",
      "rev\n",
      "\n",
      "mol\n",
      "\n",
      "biol\n",
      "\n",
      "sci\n",
      "\n",
      "notes\n",
      "\n",
      "10  centroid\n",
      "promoter\n",
      "\n",
      "phenotype\n",
      "\n",
      "pcr\n",
      "\n",
      "kinase\n",
      "\n",
      "polymerase\n",
      "\n",
      "lacking\n",
      "\n",
      "signaling\n",
      "\n",
      "mrna\n",
      "\n",
      "mutants\n",
      "\n",
      "yeast\n",
      "\n",
      "11  centroid\n",
      "end\n",
      "\n",
      "org\n",
      "\n",
      "sciencemag\n",
      "\n",
      "ag7\n",
      "\n",
      "neas\n",
      "\n",
      "nompc\n",
      "\n",
      "lcts\n",
      "\n",
      "dnag\n",
      "\n",
      "proteorhodopsin\n",
      "\n",
      "trxr\n",
      "\n"
     ]
    }
   ],
   "source": [
    "for k in range(0,11): getVocab(k)"
   ]
  }
 ],
 "metadata": {
  "kernelspec": {
   "display_name": "Python 3",
   "language": "python",
   "name": "python3"
  },
  "language_info": {
   "codemirror_mode": {
    "name": "ipython",
    "version": 3
   },
   "file_extension": ".py",
   "mimetype": "text/x-python",
   "name": "python",
   "nbconvert_exporter": "python",
   "pygments_lexer": "ipython3",
   "version": "3.5.2"
  }
 },
 "nbformat": 4,
 "nbformat_minor": 2
}
