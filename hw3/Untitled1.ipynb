{
 "cells": [
  {
   "cell_type": "code",
   "execution_count": 4,
   "metadata": {
    "collapsed": true,
    "deletable": true,
    "editable": true
   },
   "outputs": [],
   "source": [
    "import numpy as np\n",
    "import matplotlib.pyplot as plt \n",
    "import random,math\n",
    "from sklearn import preprocessing\n",
    "from sklearn.cluster import KMeans\n",
    "import pandas as pd\n",
    "\n",
    "%matplotlib inline\n"
   ]
  },
  {
   "cell_type": "code",
   "execution_count": 5,
   "metadata": {
    "collapsed": false,
    "deletable": true,
    "editable": true
   },
   "outputs": [],
   "source": [
    "data = pd.read_csv('faithful.csv')\n"
   ]
  },
  {
   "cell_type": "code",
   "execution_count": 7,
   "metadata": {
    "collapsed": false,
    "deletable": true,
    "editable": true
   },
   "outputs": [
    {
     "data": {
      "text/plain": [
       "<matplotlib.text.Text at 0x10a63b048>"
      ]
     },
     "execution_count": 7,
     "metadata": {},
     "output_type": "execute_result"
    },
    {
     "data": {
      "image/png": "[encoded data removed]",
      "text/plain": [
       "<matplotlib.figure.Figure at 0x10a594e10>"
      ]
     },
     "metadata": {},
     "output_type": "display_data"
    }
   ],
   "source": [
    "#https://www.springboard.com/blog/data-mining-python-tutorial/\n",
    "plt.scatter(data.eruptions, data.waiting)\n",
    "plt.title('Old Faithful Data Scatterplot')\n",
    "plt.xlabel('Length of eruption (minutes)')\n",
    "plt.ylabel('Time between eruptions (minutes)')"
   ]
  },
  {
   "cell_type": "code",
   "execution_count": 11,
   "metadata": {
    "collapsed": false,
    "deletable": true,
    "editable": true
   },
   "outputs": [],
   "source": [
    "data = np.array(data)\n"
   ]
  },
  {
   "cell_type": "code",
   "execution_count": null,
   "metadata": {
    "collapsed": true,
    "deletable": true,
    "editable": true
   },
   "outputs": [],
   "source": [
    "def gmm(X,K):\n",
    "    # Num of data points N=271, Dimension D=2\n",
    "    N, D = np.shape(X)\n",
    "    \n",
    "    #init centriods: K*D,2*2\n",
    "    ctd_index = random.sample(range(272),2) \n",
    "    ctd = X[ctd_index] #pick K centriods randomly\n",
    "    mean_vec1 = []\n",
    "    mean_vec2 = []\n",
    "    \n",
    "    mean_vec1.append(ctd[0])\n",
    "    mean_vec2.append(ctd[1])\n",
    "\n",
    "    #Take initial guesses for μ1ˆ , sigma1ˆ 2, μ2ˆ , sigma2ˆ2, pieˆ \n",
    "    [pMiu,pPi,pSigma] = init_params(X,ctd,K,N,D)\n",
    "    \n",
    "    #set convergence threshold\n",
    "    threshold  = 1e-15\n",
    "    #previous log likelihood = -infinite\n",
    "    Lprev = -np.inf\n",
    "    \n",
    "    while True:\n",
    "        #------------------E-STEP compute responsibilities----------------------------\n",
    "        \n",
    "        #calculate Gaussian posterior probability of each component for each data point\n",
    "        Px = calc_prob(pMiu,pSigma,X,K,N,D)\n",
    "        #numerator = pi(k) * N(xi | pMiu(k), pSigma(k)) \n",
    "        pGamma = Px * np.tile(pPi,(N,1))\n",
    "        #denominator= SUM(pi(j) * N(xi | pMiu(j), pSigma(j)))\n",
    "        pGamma = pGamma / np.tile((np.sum(pGamma,axis=1)),(K,1)).T\n",
    "        \n",
    "        #------------------M-STEP update weighted means and variances----------------------------\n",
    "        Nk = np.sum(pGamma,axis=0)\n",
    "        #update pMiu\n",
    "        pMiu = np.dot(np.dot(np.diag(1 / Nk),pGamma.T),X)\n",
    "        mean_vec1.append(pMiu[0])\n",
    "        mean_vec2.append(pMiu[1])\n",
    "        \n",
    "        #update pPi\n",
    "        pPi = Nk / N\n",
    "        #update pSigma\n",
    "        for kk in range(K):\n",
    "            Xshift = X - np.tile(pMiu[kk],(N,1))\n",
    "            pSigma[:,:,kk] = (np.dot(np.dot(Xshift.T,np.diag(pGamma[:,kk])),Xshift)) / Nk[kk]\n",
    "        \n",
    "        #------------------CHECK FOR CONVERGENCE----------------------------\n",
    "        L = np.sum(np.log(Px*(pPi.T)))  \n",
    "        if L-Lprev < threshold:\n",
    "            break        \n",
    "        Lprev = L\n",
    "        \n",
    "    return Px, mean_vec1, mean_vec2"
   ]
  },
  {
   "cell_type": "code",
   "execution_count": 72,
   "metadata": {
    "collapsed": true,
    "deletable": true,
    "editable": true
   },
   "outputs": [],
   "source": [
    "def guessParams(X,centroid,K,N,D):\n",
    "    Miu = centroid;#2*2\n",
    "    pPi = np.zeros([1, K]) #1*K, the weight of K components  \n",
    "    pSigma = np.zeros([D, D, K]) #D*D*K, the cov matrix of k components\n",
    "    \n",
    "    distmat = np.tile(np.sum(X * X,axis=1),(K,1)).T \n",
    "    + np.tile(np.sum(Miu * Miu,axis = 1).T,(N,1)) \n",
    "    - 2 * np.dot(X,Miu.T)\n",
    "    \n",
    "    labels = np.argmin(distmat,axis=1)#label =  row index\n",
    "    \n",
    "    for k in range(K):\n",
    "        Xk = X[labels==k]\n",
    "        pPi[0][k] = float(np.shape(Xk)[0]) / N # (num of samples in component k) / N\n",
    "        pSigma[:,:,k] = np.cov(Xk.T)\n",
    "    \n",
    "    return Miu,pPi,pSigma\n",
    "\n",
    "    \n"
   ]
  },
  {
   "cell_type": "code",
   "execution_count": 73,
   "metadata": {
    "collapsed": false,
    "deletable": true,
    "editable": true
   },
   "outputs": [],
   "source": [
    "def calc_prob(Miu,pSigma,X,K,N,D):\n",
    "    Px = np.zeros((N,K))\n",
    "    for k in range(K):\n",
    "        Xshift = X - np.tile(Miu[k],(N,1))\n",
    "        inv_pSigma = np.linalg.pinv(pSigma[:,:,k]) \n",
    "        tmp = np.sum(np.dot(Xshift,inv_pSigma) * Xshift,axis=1)\n",
    "        coef = (2*np.pi)**(-D/2) * np.sqrt(np.linalg.det(inv_pSigma))\n",
    "        Px[:,k] = coef * np.exp(-0.5 * tmp)\n",
    "    return Px\n"
   ]
  },
  {
   "cell_type": "code",
   "execution_count": null,
   "metadata": {
    "collapsed": false,
    "deletable": true,
    "editable": true
   },
   "outputs": [],
   "source": [
    "#if __name__ == '__main__':\n",
    "    X = data[:,[0,1]] #discard data id\n",
    "    scaler = preprocessing.MinMaxScaler()\n",
    "    X = scaler.fit_transform(X) #data normalization-->range[0,1]\n",
    "    \n",
    "    esti_px, m_vec1, m_vec2 = GMM(X,2) #fit GMM\n",
    "    index = np.argmax(esti_px,axis=1) \n",
    "    \n",
    "    #plot the dataset after clustering\n",
    "    plt.figure(1)\n",
    "    plt.scatter(X[index==0][:,0],X[index==0][:,1],c='pink')\n",
    "    plt.scatter(X[index==1][:,0],X[index==1][:,1],c=u'b')\n",
    "    \n",
    "    #plot the trajectories of two mean vectors\n",
    "    plt.plot(np.mat(m_vec1)[:,0],np.mat(m_vec1)[:,1],'rv-',markersize=10,linewidth=5)\n",
    "    plt.plot(np.mat(m_vec2)[:,0],np.mat(m_vec2)[:,1],'mD-',markersize=10,linewidth=5)\n",
    "    \n",
    "    plt.title(\" Clustering using bimodel GMM\")\n",
    "    #plt.savefig(\"gmm.jpg\")"
   ]
  },
  {
   "cell_type": "code",
   "execution_count": null,
   "metadata": {
    "collapsed": true,
    "deletable": true,
    "editable": true
   },
   "outputs": [],
   "source": []
  }
 ],
 "metadata": {
  "kernelspec": {
   "display_name": "Python 3",
   "language": "python",
   "name": "python3"
  },
  "language_info": {
   "codemirror_mode": {
    "name": "ipython",
    "version": 3
   },
   "file_extension": ".py",
   "mimetype": "text/x-python",
   "name": "python",
   "nbconvert_exporter": "python",
   "pygments_lexer": "ipython3",
   "version": "3.5.2"
  }
 },
 "nbformat": 4,
 "nbformat_minor": 2
}
