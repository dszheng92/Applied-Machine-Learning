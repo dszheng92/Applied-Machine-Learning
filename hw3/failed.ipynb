{
 "cells": [
  {
   "cell_type": "code",
   "execution_count": 1,
   "metadata": {
    "collapsed": false
   },
   "outputs": [
    {
     "ename": "ImportError",
     "evalue": "No module named 'stats'",
     "output_type": "error",
     "traceback": [
      "\u001b[0;31m---------------------------------------------------------------------------\u001b[0m",
      "\u001b[0;31mImportError\u001b[0m                               Traceback (most recent call last)",
      "\u001b[0;32m<ipython-input-1-c4a6aed89366>\u001b[0m in \u001b[0;36m<module>\u001b[0;34m()\u001b[0m\n\u001b[1;32m      6\u001b[0m \u001b[0;32mfrom\u001b[0m \u001b[0mmpl_toolkits\u001b[0m\u001b[0;34m.\u001b[0m\u001b[0mmplot3d\u001b[0m \u001b[0;32mimport\u001b[0m \u001b[0mAxes3D\u001b[0m\u001b[0;34m\u001b[0m\u001b[0m\n\u001b[1;32m      7\u001b[0m \u001b[0;34m\u001b[0m\u001b[0m\n\u001b[0;32m----> 8\u001b[0;31m \u001b[0;32mfrom\u001b[0m \u001b[0mstats\u001b[0m\u001b[0;34m.\u001b[0m\u001b[0mdistributions\u001b[0m \u001b[0;32mimport\u001b[0m \u001b[0mdmvnorm\u001b[0m\u001b[0;34m\u001b[0m\u001b[0m\n\u001b[0m\u001b[1;32m      9\u001b[0m \u001b[0;32mfrom\u001b[0m \u001b[0mfaithful\u001b[0m\u001b[0;34m.\u001b[0m\u001b[0mclustering\u001b[0m \u001b[0;32mimport\u001b[0m \u001b[0mplot_clusters\u001b[0m\u001b[0;34m\u001b[0m\u001b[0m\n",
      "\u001b[0;31mImportError\u001b[0m: No module named 'stats'"
     ]
    }
   ],
   "source": [
    "import numpy as np\n",
    "import numpy.random as npr\n",
    "import numpy.linalg as la\n",
    "\n",
    "from matplotlib import pyplot\n",
    "from mpl_toolkits.mplot3d import Axes3D\n",
    "\n",
    "\n",
    "from stats.distributions import dmvnorm\n",
    "from faithful.clustering import plot_clusters\n"
   ]
  },
  {
   "cell_type": "code",
   "execution_count": null,
   "metadata": {
    "collapsed": true
   },
   "outputs": [],
   "source": [
    "def plot_against_kmeans(data, theta_path, kmeans,\n",
    "                        filename=None,suppress_output=False):\n",
    "    data = np.array(data)\n",
    "\n",
    "    labels = kmeans.labels_\n",
    "    centroids = kmeans.cluster_centers_\n",
    "    k = len(centroids)\n",
    "\n",
    "    fig, axis = pyplot.subplots(1, 1)\n",
    "    plot_clusters(axis, data, k, labels, centroids, alpha=0.5)\n",
    "    xmin = 1.5\n",
    "    xmax = 5.5\n",
    "    ymin = 40\n",
    "    ymax = 100\n",
    "\n",
    "    axis.set_title('EM model vs. KMeans.  \\nNumber of Iterations: %d' % len(theta_path))\n",
    "    axis.set_xlabel('Eruption Time (mins)')\n",
    "    axis.set_ylabel('Time Between Eruptions (mins)')\n",
    "    axis.set_xlim([xmin, xmax])\n",
    "    axis.set_ylim([ymin, ymax])\n",
    "\n",
    "    lines = axis.plot(theta_path[:, 0, 0],\n",
    "                      theta_path[:, 0, 1], 'g-',\n",
    "                      theta_path[:, 1, 0],\n",
    "                      theta_path[:, 1, 1], 'b-')\n",
    "    pyplot.setp(lines, lw=2.0)\n",
    "    xs = axis.plot(theta_path[-1, 0, 0],\n",
    "                   theta_path[-1, 0, 1], 'rx',\n",
    "                   theta_path[-1, 1, 0],\n",
    "                   theta_path[-1, 1, 1], 'rx')\n",
    "    pyplot.setp(xs, ms=15.0)\n",
    "    pyplot.setp(xs, mew=2.0)\n",
    "\n",
    "\n",
    "    if suppress_output == False:\n",
    "        if filename is not None:\n",
    "            fig.savefig(filename)\n",
    "        else:\n",
    "            pyplot.show()\n"
   ]
  },
  {
   "cell_type": "code",
   "execution_count": null,
   "metadata": {
    "collapsed": true
   },
   "outputs": [],
   "source": [
    "def gaussian_mixture(x, y, theta, sigma, pi):\n",
    "\n",
    "    z = np.zeros((len(x), len(y)))\n",
    "\n",
    "    for i, xval in enumerate(x):\n",
    "        for j, yval in enumerate(y):\n",
    "            data = np.array([xval, yval]).reshape((1, 2))\n",
    "            z1 = dmvnorm(data, mu=theta[0], sigma=sigma[0])\n",
    "            z2 = dmvnorm(data, mu=theta[1], sigma=sigma[1])\n",
    "            z[j, i] = ((1-pi) * z1) + (pi * z2)\n",
    "\n",
    "    return z\n",
    "\n"
   ]
  },
  {
   "cell_type": "code",
   "execution_count": null,
   "metadata": {
    "collapsed": true
   },
   "outputs": [],
   "source": [
    "def draw_contour_plots(theta, sigma, pi, filename=None):\n",
    "\n",
    "    #fig = pyplot.figure()\n",
    "    #axis = fig.add_subplot(111,projection='3d')\n",
    "    fig,axis = pyplot.subplots(1, 1)\n",
    "    number_of_steps = 100.0\n",
    "    xmin = 1.5\n",
    "    xmax = 5.5\n",
    "    xstep = (xmax-xmin)/number_of_steps\n",
    "    ymin = 40\n",
    "    ymax = 100\n",
    "    ystep = (ymax-ymin)/number_of_steps\n",
    "\n",
    "    x = np.arange(xmin, xmax, xstep)\n",
    "    y = np.arange(ymin, ymax, ystep)\n",
    "    z = gaussian_mixture(x, y, theta, sigma, pi)\n",
    "    #x,y = np.meshgrid(x,y)\n",
    "\n",
    "    #c = axis.plot_surface(x,y,z)\n",
    "    c = axis.contourf(x, y, z, 120)\n",
    "    cb = pyplot.colorbar(c)\n",
    "    #pyplot.clabel(c, inline=1, fontsize=10)\n",
    "\n",
    "    if filename is not None:\n",
    "        fig.savefig(filename)\n",
    "    else:\n",
    "        pyplot.show()\n",
    "\n"
   ]
  },
  {
   "cell_type": "code",
   "execution_count": null,
   "metadata": {
    "collapsed": true
   },
   "outputs": [],
   "source": [
    "def gaussian_em_2(data, max_reps=10, init_theta=None,\n",
    "                  init_sigma=None, init_pi=None, delta=0.001):\n",
    "    data = np.array(data)\n",
    "\n",
    "    theta = init_theta\n",
    "    sigma = init_sigma\n",
    "    pi = init_pi\n",
    "\n",
    "    theta_history = []\n",
    "    sigma_history = []\n",
    "    pi_history = []\n",
    "\n",
    "    if theta is None:\n",
    "        theta = np.zeros((2, 2))\n",
    "        theta[0] = data[npr.randint(0, len(data))]\n",
    "        theta[1] = data[npr.randint(0, len(data))]\n",
    "    if sigma is None:\n",
    "        sigma = np.zeros((2, 2, 2))\n",
    "        sigma[0] = np.cov(data, rowvar=0)\n",
    "        sigma[1] = np.copy(sigma[0])\n",
    "    if pi is None:\n",
    "        pi = 0.5\n",
    "\n",
    "\n",
    "    theta_history.append(theta)\n",
    "    sigma_history.append(sigma)\n",
    "    pi_history.append(pi)\n",
    "\n",
    "    for _ in range(max_reps):\n",
    "        _, responsibilities = _expectation_gauss2(data, theta, sigma, pi)\n",
    "        theta, sigma, pi = _maximization_gauss2(data, responsibilities)\n",
    "        theta_history.append(theta)\n",
    "        sigma_history.append(sigma)\n",
    "        pi_history.append(pi)\n",
    "        if _is_converged(theta_history, sigma_history, pi_history, delta):\n",
    "            break\n",
    "\n",
    "    return np.array(theta_history), np.array(sigma_history), np.array(pi_history)\n",
    "\n"
   ]
  },
  {
   "cell_type": "code",
   "execution_count": null,
   "metadata": {
    "collapsed": true
   },
   "outputs": [],
   "source": [
    "def _expectation_gauss2(data, theta, sigma, pi):\n",
    "\n",
    "    prob_cluster1 = (1-pi) * dmvnorm(data, mu=theta[0], sigma=sigma[0])\n",
    "    prob_cluster2 = pi * dmvnorm(data, mu=theta[1], sigma=sigma[1])\n",
    "\n",
    "    grouping = np.zeros_like(prob_cluster1, dtype=np.integer)\n",
    "    grouping[np.where(prob_cluster1<prob_cluster2)] = 1\n",
    "\n",
    "    responsibilities = prob_cluster2 / ( prob_cluster1 + prob_cluster2)\n",
    "\n",
    "    return grouping, responsibilities\n",
    "\n",
    "\n"
   ]
  },
  {
   "cell_type": "code",
   "execution_count": null,
   "metadata": {
    "collapsed": true
   },
   "outputs": [],
   "source": [
    "def _maximization_gauss2(data, responsibilities):\n",
    "    theta_1 = np.sum( (1-responsibilities) * data.T, axis=1) / np.sum( 1-responsibilities )\n",
    "    theta_2 = np.sum( responsibilities * data.T, axis=1) / np.sum(responsibilities)\n",
    "\n",
    "    sigma_1 = ((data - theta_1) * (1-responsibilities)[:, np.newaxis]).T.dot(data - theta_1) / np.sum(1-responsibilities)\n",
    "    sigma_2 = ((data - theta_2) * responsibilities[:, np.newaxis]).T.dot(data - theta_2) / np.sum(responsibilities)\n",
    "\n",
    "    pi = np.sum(responsibilities)/len(responsibilities)\n",
    "\n",
    "    return np.append(theta_1, theta_2).reshape((2, 2)), np.append(sigma_1, sigma_2).reshape((2, 2, 2)), pi\n",
    "\n"
   ]
  },
  {
   "cell_type": "code",
   "execution_count": null,
   "metadata": {
    "collapsed": true
   },
   "outputs": [],
   "source": [
    "def _is_converged(theta_history, sigma_history, pi_history, delta):\n",
    "    if len(theta_history) < 2:\n",
    "        return False\n",
    "\n",
    "    if la.norm(theta_history[-1]-theta_history[-2]) > delta:\n",
    "        return False\n",
    "\n",
    "    last_sigma = sigma_history[-2]\n",
    "    present_sigma = sigma_history[-1]\n",
    "    if la.norm(present_sigma - last_sigma) > delta:\n",
    "        return False\n",
    "\n",
    "    last_pi = pi_history[-2]\n",
    "    present_pi = pi_history[-1]\n",
    "    if present_pi - last_pi > delta:\n",
    "        return False\n",
    "\n",
    "    return True"
   ]
  }
 ],
 "metadata": {
  "kernelspec": {
   "display_name": "Python 3",
   "language": "python",
   "name": "python3"
  },
  "language_info": {
   "codemirror_mode": {
    "name": "ipython",
    "version": 3
   },
   "file_extension": ".py",
   "mimetype": "text/x-python",
   "name": "python",
   "nbconvert_exporter": "python",
   "pygments_lexer": "ipython3",
   "version": "3.5.2"
  }
 },
 "nbformat": 4,
 "nbformat_minor": 2
}
